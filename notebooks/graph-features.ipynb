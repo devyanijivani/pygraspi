{
 "cells": [
  {
   "cell_type": "code",
   "execution_count": 1,
   "id": "39ff7aad",
   "metadata": {},
   "outputs": [],
   "source": [
    "import networkx as nx\n",
    "import numpy as np\n",
    "from math import *\n"
   ]
  },
  {
   "cell_type": "code",
   "execution_count": 2,
   "id": "b4750a42",
   "metadata": {},
   "outputs": [],
   "source": [
    "morph = np.array([[0, 1], [0, 1]])"
   ]
  },
  {
   "cell_type": "code",
   "execution_count": 3,
   "id": "06edbfd1",
   "metadata": {},
   "outputs": [],
   "source": [
    "mapping={(i,j):morph[i][j] for i in range(0,morph.shape[0]) for j in range(0,morph.shape[1])}"
   ]
  },
  {
   "cell_type": "code",
   "execution_count": 4,
   "id": "af9f5718",
   "metadata": {},
   "outputs": [
    {
     "data": {
      "text/plain": [
       "{(0, 0): 0, (0, 1): 1, (1, 0): 0, (1, 1): 1}"
      ]
     },
     "execution_count": 4,
     "metadata": {},
     "output_type": "execute_result"
    }
   ],
   "source": [
    "mapping"
   ]
  },
  {
   "cell_type": "code",
   "execution_count": 5,
   "id": "061cead8",
   "metadata": {},
   "outputs": [],
   "source": [
    "m, n = morph.shape\n",
    "G = nx.grid_2d_graph(m, n, periodic=False, create_using=None)"
   ]
  },
  {
   "cell_type": "code",
   "execution_count": 6,
   "id": "f926e0b4",
   "metadata": {},
   "outputs": [],
   "source": [
    "\n",
    "G.add_edge((0,0), (1, 1))\n",
    "G.add_edge((0,1), (1, 0))"
   ]
  },
  {
   "cell_type": "code",
   "execution_count": 66,
   "id": "5b9dd8ae",
   "metadata": {},
   "outputs": [],
   "source": [
    "nx.set_node_attributes(G, mapping, name=\"color\")"
   ]
  },
  {
   "cell_type": "code",
   "execution_count": 67,
   "id": "059fec7c",
   "metadata": {},
   "outputs": [
    {
     "data": {
      "text/plain": [
       "EdgeView([((0, 0), (1, 0)), ((0, 0), (0, 1)), ((0, 0), (1, 1)), ((0, 1), (1, 1)), ((0, 1), (1, 0)), ((1, 0), (1, 1))])"
      ]
     },
     "execution_count": 67,
     "metadata": {},
     "output_type": "execute_result"
    }
   ],
   "source": [
    "G.edges"
   ]
  },
  {
   "cell_type": "code",
   "execution_count": 68,
   "id": "6c1de519",
   "metadata": {},
   "outputs": [
    {
     "data": {
      "text/plain": [
       "{(0, 0): 0, (0, 1): 1, (1, 0): 0, (1, 1): 1}"
      ]
     },
     "execution_count": 68,
     "metadata": {},
     "output_type": "execute_result"
    }
   ],
   "source": [
    "color = nx.get_node_attributes(G, \"color\")\n",
    "color"
   ]
  },
  {
   "cell_type": "code",
   "execution_count": 69,
   "id": "fa0a3057",
   "metadata": {},
   "outputs": [],
   "source": [
    "def numberofPhaseVertices(G, phase):\n",
    "    phases = nx.get_node_attributes(G, \"color\")\n",
    "    phase_list = list(phases.values())\n",
    "    return phase_list.count(phase)"
   ]
  },
  {
   "cell_type": "code",
   "execution_count": 70,
   "id": "5d5315ec",
   "metadata": {},
   "outputs": [
    {
     "data": {
      "text/plain": [
       "2"
      ]
     },
     "execution_count": 70,
     "metadata": {},
     "output_type": "execute_result"
    }
   ],
   "source": [
    "c = numberofPhaseVertices(G, 0)\n",
    "c"
   ]
  },
  {
   "cell_type": "code",
   "execution_count": 71,
   "id": "085eb738",
   "metadata": {},
   "outputs": [],
   "source": [
    "def node_phaseA(n, G):\n",
    "    nodes = G.nodes\n",
    "    return nodes[n]['color'] == 0\n",
    "\n",
    "def node_phaseB(n, G):\n",
    "    nodes = G.nodes\n",
    "    return nodes[n]['color'] == 1"
   ]
  },
  {
   "cell_type": "code",
   "execution_count": 77,
   "id": "7e68c3e9",
   "metadata": {},
   "outputs": [
    {
     "data": {
      "text/plain": [
       "4"
      ]
     },
     "execution_count": 77,
     "metadata": {},
     "output_type": "execute_result"
    }
   ],
   "source": [
    "#Interface Edges\n",
    "interface = [(n, u) for n, u in G.edges() \n",
    "    if (node_phaseA(n, G) and node_phaseB(u, G)) \n",
    " or (node_phaseB(n, G) and node_phaseA(u, G)) \n",
    "]\n",
    "len(interface)"
   ]
  },
  {
   "cell_type": "code",
   "execution_count": 56,
   "id": "bd90ccdd",
   "metadata": {},
   "outputs": [
    {
     "data": {
      "text/plain": [
       "NodeView(((0, 0), (1, 0)))"
      ]
     },
     "execution_count": 56,
     "metadata": {},
     "output_type": "execute_result"
    }
   ],
   "source": [
    "#Sub-Graph\n",
    "nodes = (\n",
    "    node\n",
    "    for node, data\n",
    "    in G.nodes(data=True)\n",
    "    if data.get(\"color\") == 0\n",
    ")\n",
    "subgraph = G.subgraph(nodes)\n",
    "subgraph.nodes "
   ]
  },
  {
   "cell_type": "code",
   "execution_count": 59,
   "id": "74b39280",
   "metadata": {},
   "outputs": [
    {
     "data": {
      "text/plain": [
       "1"
      ]
     },
     "execution_count": 59,
     "metadata": {},
     "output_type": "execute_result"
    }
   ],
   "source": [
    "#Connected Components\n",
    "nx.number_connected_components(subgraph)"
   ]
  },
  {
   "cell_type": "code",
   "execution_count": 71,
   "id": "1c4e71c4",
   "metadata": {},
   "outputs": [
    {
     "data": {
      "text/plain": [
       "EdgeView([((0, 0), (1, 0)), ((0, 0), (0, 1)), ((0, 1), (1, 1)), ((1, 0), (1, 1))])"
      ]
     },
     "execution_count": 71,
     "metadata": {},
     "output_type": "execute_result"
    }
   ],
   "source": []
  },
  {
   "cell_type": "markdown",
   "id": "59291fbe",
   "metadata": {},
   "source": [
    "## Graph Grid Implementation\n"
   ]
  },
  {
   "cell_type": "code",
   "execution_count": 4,
   "id": "c98f706b",
   "metadata": {},
   "outputs": [],
   "source": [
    "import networkx\n",
    "import numpy as np\n",
    "from itertools import product\n",
    "import numpy.ma as ma\n",
    "from toolz.curried import pipe, curry\n",
    "from toolz.curried import map as fmap"
   ]
  },
  {
   "cell_type": "code",
   "execution_count": 5,
   "id": "884a6abf",
   "metadata": {},
   "outputs": [
    {
     "data": {
      "text/plain": [
       "89"
      ]
     },
     "execution_count": 5,
     "metadata": {},
     "output_type": "execute_result"
    },
    {
     "data": {
      "image/png": "[encoded data removed]",
      "text/plain": [
       "<Figure size 432x288 with 1 Axes>"
      ]
     },
     "metadata": {},
     "output_type": "display_data"
    }
   ],
   "source": [
    "cond = lambda x: (x[:, 1] != -1) & (x[:, 0] != -1)\n",
    "\n",
    "def merge_edges(neighbors, ids):\n",
    "    return pipe(\n",
    "        ids,\n",
    "        lambda x: np.reshape(x.flatten(), (-1, 1, 1)),\n",
    "        lambda x: np.repeat(x, neighbors.shape[1], axis=1),\n",
    "        lambda x: np.concatenate((x, neighbors), axis=-1).reshape(-1, 2),\n",
    "        lambda x: x[cond(x)],\n",
    "    )\n",
    "\n",
    "def index_vectors(nx, ny, nz):\n",
    "    index2D = ([1, 0, 0], [1, 1, 0], [0, 1, 0], [-1, 1, 0])\n",
    "    if ny == nz == 1:\n",
    "        return ([1, 0, 0],)\n",
    "    if nz == 1:\n",
    "        return index2D\n",
    "    else:\n",
    "        return index2D + tuple([x, y, 1] for x in (1, 0, -1) for y in (1, 0, -1))\n",
    "\n",
    "def make_ids_padded(ids):\n",
    "    nx, ny, nz = ids.shape\n",
    "    ids_padded = -np.ones((nx + 2, ny + 2, nz + 2), dtype=int)\n",
    "    ids_padded[1:-1, 1:-1, 1:-1] = ids\n",
    "    return ids_padded\n",
    "\n",
    "@curry\n",
    "def make_sub_ids(ids_padded, indices):\n",
    "    nx, ny, nz = ids_padded.shape\n",
    "    left, up, front = indices\n",
    "    return ids_padded[1 + left:nx - 1 + left, 1 + up:ny - 1 + up, 1 + front:nz - 1 + front][..., None]\n",
    "\n",
    "def make_neighbors(ids):\n",
    "    nx, ny, nz = ids.shape\n",
    "    ids_padded = make_ids_padded(ids)\n",
    "    \n",
    "    return pipe(\n",
    "        index_vectors(nx, ny, nz),\n",
    "        fmap(make_sub_ids(ids_padded)),\n",
    "        list,\n",
    "        lambda x: np.concatenate(x, axis=-1).reshape(nx * ny * nz, len(x), 1)\n",
    "    )\n",
    "\n",
    "def make_grid_edges(nx=1, ny=1, nz=1):\n",
    "    ids = np.arange(nx * ny * nz).reshape(nx, ny, nz)\n",
    "    return merge_edges(make_neighbors(ids), ids)\n",
    "\n",
    "def make_grid_graph(shape):\n",
    "    g = networkx.Graph()\n",
    "    g.add_nodes_from(np.arange(np.prod(shape)))\n",
    "    g.add_edges_from(make_grid_edges(*shape))\n",
    "    return g\n",
    "\n",
    "g = make_grid_graph((3, 3, 2))\n",
    "networkx.draw(g)\n",
    "g.number_of_edges()"
   ]
  },
  {
   "cell_type": "code",
   "execution_count": 7,
   "id": "d9086df1",
   "metadata": {},
   "outputs": [],
   "source": [
    "def getNeighborhood1D(dim_x, dim_y):\n",
    "    vertex_list = np.array(range(dim_x * dim_y))\n",
    "    #neighborhood = np.zeros([vertex_list.shape[0], 8])\n",
    "    \n",
    "    #del_vertices = []\n",
    "    del_vertices = list(range(0,dim_x * dim_y,dim_x))\n",
    "    del_vertices += (list(range(dim_x - 1,dim_x * dim_y,dim_x)))\n",
    "    \n",
    "    del_vertices += list(range(1,dim_x))\n",
    "    del_vertices += list(range(dim_x * (dim_y - 1) + 1 ,dim_x * dim_y ))\n",
    "    del_vertices = list(set(del_vertices))\n",
    "   \n",
    "    \n",
    "    vertex_list =[i for i in range(dim_x * dim_y) if i not in del_vertices]\n",
    "    #print(vertex_list)\n",
    "    neighborhood = np.array([[p-dim_x, (p-dim_x) + 1, p + 1, p + dim_x + 1, p + dim_x,\n",
    "                             (p+dim_x) - 1, p - 1, (p - dim_x) - 1 ] for p in vertex_list ])\n",
    "    #neighborhood[::dim_x, [5, 6, 7]] = -1\n",
    "    #neighborhood[dim_x-1::dim_x, [1, 2, 3]] = -1\n",
    "    #neighborhood[0, [0, 1, 5, 6, 7]] = -1\n",
    "    #neighborhood[dim_x-1, [0, 1, 2, 3, 7]] = -1\n",
    "    #neighborhood[dim_x * (dim_y -1), [3, 4, 5, 6, 7]] = -1\n",
    "    #neighborhood[-1, [1, 2, 3, 4, 5]] = -1\n",
    "    #neighborhood[0:dim_x, [0, 1, 7]] = -1\n",
    "    #neighborhood[dim_x * (dim_y -1):, [3, 4, 5]] = -1\n",
    "\n",
    "    return neighborhood, vertex_list"
   ]
  },
  {
   "cell_type": "code",
   "execution_count": 8,
   "id": "3775b1fd",
   "metadata": {},
   "outputs": [
    {
     "data": {
      "text/plain": [
       "[6, 7, 8, 11, 12, 13, 16, 17, 18]"
      ]
     },
     "execution_count": 8,
     "metadata": {},
     "output_type": "execute_result"
    }
   ],
   "source": [
    "\n",
    "neighbors, vertex_list = getNeighborhood1D(5, 5)\n",
    "\n",
    "vertex_list"
   ]
  },
  {
   "cell_type": "code",
   "execution_count": 9,
   "id": "3d725261",
   "metadata": {},
   "outputs": [
    {
     "data": {
      "text/plain": [
       "array([[ 1,  2,  7, 12, 11, 10,  5,  0],\n",
       "       [ 2,  3,  8, 13, 12, 11,  6,  1],\n",
       "       [ 3,  4,  9, 14, 13, 12,  7,  2],\n",
       "       [ 6,  7, 12, 17, 16, 15, 10,  5],\n",
       "       [ 7,  8, 13, 18, 17, 16, 11,  6],\n",
       "       [ 8,  9, 14, 19, 18, 17, 12,  7],\n",
       "       [11, 12, 17, 22, 21, 20, 15, 10],\n",
       "       [12, 13, 18, 23, 22, 21, 16, 11],\n",
       "       [13, 14, 19, 24, 23, 22, 17, 12]])"
      ]
     },
     "execution_count": 9,
     "metadata": {},
     "output_type": "execute_result"
    }
   ],
   "source": [
    "neighbors"
   ]
  },
  {
   "cell_type": "code",
   "execution_count": 10,
   "id": "cabafd1a",
   "metadata": {},
   "outputs": [],
   "source": [
    "morph = np.array([0, 0, 0, 0, 0, 0, 1, 0, 0, 0, 0, 1, 1, 1, 0, 0, 1, 0, 0, 0, 0, 0, 0, 0, 0])"
   ]
  },
  {
   "cell_type": "code",
   "execution_count": 11,
   "id": "487d27a8",
   "metadata": {},
   "outputs": [
    {
     "data": {
      "text/plain": [
       "array([3, 4])"
      ]
     },
     "execution_count": 11,
     "metadata": {},
     "output_type": "execute_result"
    }
   ],
   "source": [
    "morph_neighbors = morph[neighbors]\n",
    "morph_neighbors[morph[vertex_list] == 0, :] = 0\n",
    "potential_junctions = np.argwhere(np.sum(morph_neighbors, axis=1) >= 3)\n",
    "potential_junctions = np.squeeze(potential_junctions)\n",
    "c"
   ]
  },
  {
   "cell_type": "code",
   "execution_count": 12,
   "id": "1d626649",
   "metadata": {},
   "outputs": [
    {
     "data": {
      "text/plain": [
       "array([[0, 0, 0, 1, 1, 0, 0, 0],\n",
       "       [0, 0, 0, 0, 0, 0, 0, 0],\n",
       "       [0, 0, 0, 0, 0, 0, 0, 0],\n",
       "       [1, 0, 1, 0, 1, 0, 0, 0],\n",
       "       [0, 0, 1, 0, 0, 1, 1, 1],\n",
       "       [0, 0, 0, 0, 0, 0, 1, 0],\n",
       "       [1, 1, 0, 0, 0, 0, 0, 0],\n",
       "       [0, 0, 0, 0, 0, 0, 0, 0],\n",
       "       [0, 0, 0, 0, 0, 0, 0, 0]])"
      ]
     },
     "execution_count": 12,
     "metadata": {},
     "output_type": "execute_result"
    }
   ],
   "source": [
    "morph_neighbors"
   ]
  },
  {
   "cell_type": "code",
   "execution_count": 13,
   "id": "759e1cf5",
   "metadata": {},
   "outputs": [
    {
     "data": {
      "text/plain": [
       "[[0, 4, 6], [0, 3, 5, 6]]"
      ]
     },
     "execution_count": 13,
     "metadata": {},
     "output_type": "execute_result"
    }
   ],
   "source": [
    "# Neighbors of Potential Junctions\n",
    "potential_junct_n = []\n",
    "for i in potential_junctions:\n",
    "    #print(list(np.where([morph_neighbors[i, :] == 1])[1]))\n",
    "    #potential_junct_n.append(list(np.where(neighbors[morph_neighbors[i, :] == 1])[1]))\n",
    "    k = neighbors[i][list(np.where([morph_neighbors[i, :] == 1])[1])]\n",
    "    N = [i for i in range(len(vertex_list)) if vertex_list[i] in k]\n",
    "    potential_junct_n.append(N)\n",
    "potential_junct_n"
   ]
  },
  {
   "cell_type": "code",
   "execution_count": 14,
   "id": "0c749de1",
   "metadata": {},
   "outputs": [
    {
     "data": {
      "text/plain": [
       "[[0, 4, 6], [0, 3, 5, 6]]"
      ]
     },
     "execution_count": 14,
     "metadata": {},
     "output_type": "execute_result"
    }
   ],
   "source": [
    "potential_junct_n"
   ]
  },
  {
   "cell_type": "code",
   "execution_count": 15,
   "id": "157f43a2",
   "metadata": {},
   "outputs": [
    {
     "data": {
      "text/plain": [
       "[[4], [3]]"
      ]
     },
     "execution_count": 15,
     "metadata": {},
     "output_type": "execute_result"
    }
   ],
   "source": [
    "# Potential Junction Neighbors of Potential Junctions\n",
    "potential_junct_junct_n = []\n",
    "for i in potential_junct_n:\n",
    "    l = []\n",
    "    [l.append(p) for p in i if p in potential_junctions]\n",
    "    potential_junct_junct_n.append(l)\n",
    "potential_junct_junct_n\n",
    "junc_even_n = morph_neighbors[:,0] + morph_neighbors[:,2] + morph_neighbors[:,4] + morph_neighbors[:,6]   \n",
    "potential_junct_junct_n"
   ]
  },
  {
   "cell_type": "code",
   "execution_count": 16,
   "id": "8df0d842",
   "metadata": {},
   "outputs": [
    {
     "data": {
      "text/plain": [
       "[[4], [3]]"
      ]
     },
     "execution_count": 16,
     "metadata": {},
     "output_type": "execute_result"
    }
   ],
   "source": [
    "potentipotential_junct_junct_nal_junct_junct_n"
   ]
  },
  {
   "cell_type": "code",
   "execution_count": 18,
   "id": "ab7d61ad",
   "metadata": {},
   "outputs": [
    {
     "data": {
      "text/plain": [
       "array([4])"
      ]
     },
     "execution_count": 18,
     "metadata": {},
     "output_type": "execute_result"
    }
   ],
   "source": [
    "del_junctions = []\n",
    "for i in range(len(potential_junctions)):\n",
    "    this_junc = potential_junct_junct_n[i]\n",
    "    for j in this_junc:\n",
    "        pos, = np.where(potential_junctions == j)\n",
    "        #print(pos[0])\n",
    "        #if len(this_junc) > len(potential_junct_junct_n[pos[0]]):\n",
    "        if junc_even_n[i] > junc_even_n[pos[0]]:\n",
    "            if pos not in del_junctions : del_junctions.append(pos[0])\n",
    "        #elif len(this_junc) < len(potential_junct_junct_n[pos[0]]):\n",
    "        elif junc_even_n[i] < junc_even_n[pos[0]]:\n",
    "            if i not in del_junctions : del_junctions.append(i)\n",
    "potential_junctions[del_junctions]      "
   ]
  },
  {
   "cell_type": "code",
   "execution_count": 46,
   "id": "ab19cac2",
   "metadata": {},
   "outputs": [],
   "source": [
    "def check(l):\n",
    "    n = 2\n",
    "    subs = [l[i:i+n] for i in range(len(l)) if len(l[i:i+n]) == n]\n",
    "    print(subs)\n",
    "    return any([(sorted(sub) in range(min(l), max(l)+1)) for sub in subs])"
   ]
  },
  {
   "cell_type": "code",
   "execution_count": 47,
   "id": "4f4bda48",
   "metadata": {},
   "outputs": [],
   "source": [
    "def junc_elbows(morph_neighbors):\n",
    "    pot_elbows = np.argwhere(np.sum(morph_neighbors, axis=1) == 3)\n",
    "    for i in pot_elbows[0]:\n",
    "        print(pot_elbows)\n",
    "        #l = np.where(morph_neighbors[i])\n",
    "        l = [0, 1, 2]\n",
    "        print(l)\n",
    "        print(check(l))"
   ]
  },
  {
   "cell_type": "code",
   "execution_count": 48,
   "id": "01f6f53c",
   "metadata": {},
   "outputs": [
    {
     "name": "stdout",
     "output_type": "stream",
     "text": [
      "[[3]]\n",
      "[0, 1, 2]\n",
      "[[0, 1], [1, 2]]\n",
      "False\n"
     ]
    }
   ],
   "source": [
    "junc_elbows(morph_neighbors)"
   ]
  },
  {
   "cell_type": "code",
   "execution_count": null,
   "id": "724fa38c",
   "metadata": {},
   "outputs": [],
   "source": []
  }
 ],
 "metadata": {
  "kernelspec": {
   "display_name": "Python 3 (ipykernel)",
   "language": "python",
   "name": "python3"
  },
  "language_info": {
   "codemirror_mode": {
    "name": "ipython",
    "version": 3
   },
   "file_extension": ".py",
   "mimetype": "text/x-python",
   "name": "python",
   "nbconvert_exporter": "python",
   "pygments_lexer": "ipython3",
   "version": "3.10.0"
  }
 },
 "nbformat": 4,
 "nbformat_minor": 5
}

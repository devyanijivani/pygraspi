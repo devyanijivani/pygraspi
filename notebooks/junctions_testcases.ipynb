{
 "cells": [
  {
   "cell_type": "code",
   "execution_count": 2,
   "id": "c23db852",
   "metadata": {},
   "outputs": [],
   "source": [
    "import numpy as np\n",
    "from skimage.morphology import medial_axis, skeletonize\n",
    "import matplotlib.pyplot as plt\n",
    "import pandas\n",
    "import networkx as nx\n",
    "import sknw\n",
    "import glob\n",
    "import os"
   ]
  },
  {
   "cell_type": "code",
   "execution_count": 3,
   "id": "b2702782",
   "metadata": {},
   "outputs": [
    {
     "data": {
      "text/plain": [
       "array([[False, False, False, ..., False, False, False],\n",
       "       [False, False, False, ..., False, False, False],\n",
       "       [False, False, False, ..., False, False, False],\n",
       "       ...,\n",
       "       [ True, False, False, ..., False, False,  True],\n",
       "       [ True, False, False, ..., False, False,  True],\n",
       "       [False,  True,  True, ..., False, False,  True]])"
      ]
     },
     "execution_count": 3,
     "metadata": {},
     "output_type": "execute_result"
    }
   ],
   "source": [
    "morph = np.array(pandas.read_csv('data/data_0.558_2.4_000180.txt', delimiter=' ', header=None)).swapaxes(0, 1)\n",
    "skel, distance = medial_axis(morph, return_distance=True)\n",
    "skel"
   ]
  },
  {
   "cell_type": "code",
   "execution_count": 16,
   "id": "f34f7923",
   "metadata": {},
   "outputs": [
    {
     "data": {
      "image/png": "[encoded data removed]",
      "text/plain": [
       "<Figure size 432x288 with 1 Axes>"
      ]
     },
     "metadata": {
      "needs_background": "light"
     },
     "output_type": "display_data"
    }
   ],
   "source": [
    "graph = sknw.build_sknw(skel)\n",
    "for (s,e) in graph.edges():\n",
    "    ps = graph[s][e]['pts']\n",
    "    plt.plot(ps[:,1], ps[:,0], 'green', zorder=-1)\n",
    "    \n",
    "# draw node by o\n",
    "nodes = graph.nodes()\n",
    "ps = np.array([nodes[i]['o'] for i in nodes], dtype = int)\n",
    "plt.scatter(ps[:,1], ps[:,0], s = 5, c ='r')\n",
    "\n",
    "# title and show\n",
    "plt.title('Build Graph')\n",
    "\n",
    "plt.gca().set_aspect('equal')\n",
    "#plt.savefig('my_plot.png',dpi=1200)\n"
   ]
  },
  {
   "cell_type": "code",
   "execution_count": 5,
   "id": "104b29cf",
   "metadata": {},
   "outputs": [],
   "source": [
    "plt.show()"
   ]
  },
  {
   "cell_type": "code",
   "execution_count": 15,
   "id": "16db7b80",
   "metadata": {},
   "outputs": [],
   "source": [
    "morph = np.array([[1,1,1],\\\n",
    "                [1,1,1],\\\n",
    "                [1,1,1]])\n",
    "skel, distance = medial_axis(morph, return_distance=True)"
   ]
  },
  {
   "cell_type": "code",
   "execution_count": 6,
   "id": "be140db8",
   "metadata": {},
   "outputs": [
    {
     "data": {
      "text/plain": [
       "{'o', 'pts'}"
      ]
     },
     "execution_count": 6,
     "metadata": {},
     "output_type": "execute_result"
    }
   ],
   "source": [
    "set(np.array([list(graph.nodes[n].keys()) for n in graph.nodes()]).flatten())\n"
   ]
  },
  {
   "cell_type": "code",
   "execution_count": 18,
   "id": "a786cf8f",
   "metadata": {},
   "outputs": [
    {
     "name": "stdout",
     "output_type": "stream",
     "text": [
      "[0. 2.]\n",
      "[2. 0.]\n"
     ]
    }
   ],
   "source": [
    "for n1 in graph.nodes():\n",
    "    print(graph.nodes[n1]['o'])\n"
   ]
  },
  {
   "cell_type": "code",
   "execution_count": 19,
   "id": "b2831462",
   "metadata": {},
   "outputs": [
    {
     "name": "stdout",
     "output_type": "stream",
     "text": [
      "0   1\n"
     ]
    }
   ],
   "source": [
    "for node1, node2, data in graph.edges(data=True):\n",
    "    #print(data['pts'])\n",
    "    print(node1, \" \", node2)"
   ]
  },
  {
   "cell_type": "code",
   "execution_count": 20,
   "id": "1ad8d85b",
   "metadata": {},
   "outputs": [],
   "source": [
    "def getEndJunction(graph):\n",
    "    l = [graph.degree[n] for n in graph.nodes()]\n",
    "    return l.count(1), l.count(3)\n",
    "        "
   ]
  },
  {
   "cell_type": "code",
   "execution_count": 24,
   "id": "7df13eb5",
   "metadata": {},
   "outputs": [
    {
     "data": {
      "text/plain": [
       "<bound method Graph.number_of_edges of <networkx.classes.graph.Graph object at 0x7f0533c3c0d0>>"
      ]
     },
     "execution_count": 24,
     "metadata": {},
     "output_type": "execute_result"
    }
   ],
   "source": [
    "[E, J] = getEndJunction(graph)\n",
    "B = graph.number_of_edges\n",
    "B"
   ]
  },
  {
   "cell_type": "code",
   "execution_count": 29,
   "id": "0b942358",
   "metadata": {},
   "outputs": [],
   "source": [
    "def getBranchLen(graph):\n",
    "    b_l = [graph.edges[e]['weight'] for e in graph.edges()]\n",
    "    return np.array([len(b_l), sum(b_l)/len(b_l)])"
   ]
  },
  {
   "cell_type": "code",
   "execution_count": 30,
   "id": "a2f75afe",
   "metadata": {},
   "outputs": [
    {
     "data": {
      "text/plain": [
       "array([1.        , 3.41421356])"
      ]
     },
     "execution_count": 30,
     "metadata": {},
     "output_type": "execute_result"
    }
   ],
   "source": [
    "getBranchLen(graph)\n"
   ]
  },
  {
   "cell_type": "code",
   "execution_count": 13,
   "id": "44529c65",
   "metadata": {},
   "outputs": [
    {
     "data": {
      "text/plain": [
       "1304"
      ]
     },
     "execution_count": 13,
     "metadata": {},
     "output_type": "execute_result"
    }
   ],
   "source": [
    "dist_on_skel = distance * skel\n",
    "\n",
    "max(map(max, dist_on_skel))\n",
    "#min(map(min, dist_on_skel))\n",
    "d = dist_on_skel[skel]\n",
    "len(d)"
   ]
  },
  {
   "cell_type": "markdown",
   "id": "9adc6252",
   "metadata": {},
   "source": [
    "## Test SKNW for Cahn-Hillard dataset. \n",
    " "
   ]
  },
  {
   "cell_type": "code",
   "execution_count": 10,
   "id": "e29ced52",
   "metadata": {},
   "outputs": [
    {
     "name": "stdout",
     "output_type": "stream",
     "text": [
      "data_0.514_2.4_000080\n",
      "data_0.514_2.4_000100\n",
      "data_0.514_2.4_000140\n",
      "data_0.514_2.4_000160\n",
      "data_0.514_2.4_000180\n",
      "data_0.514_2.4_000220\n",
      "data_0.514_2.4_000280\n",
      "data_0.514_2.4_000440\n",
      "data_0.514_2.4_000480\n",
      "data_0.514_2.4_000560\n",
      "data_0.514_2.4_000620\n",
      "data_0.514_2.4_000760\n",
      "data_0.514_2.4_000880\n",
      "data_0.514_2.4_001240\n",
      "data_0.514_2.4_001800\n",
      "data_0.514_2.4_002480\n",
      "data_0.514_2.4_004660\n",
      "data_0.514_2.4_006400\n",
      "data_0.514_2.6_000080\n",
      "data_0.514_2.6_000100\n",
      "data_0.514_2.6_000140\n",
      "data_0.514_2.6_000180\n",
      "data_0.514_2.6_000220\n",
      "data_0.514_2.6_000240\n",
      "data_0.514_2.6_000260\n",
      "data_0.514_2.6_000340\n",
      "data_0.514_2.6_000420\n",
      "data_0.514_2.6_000460\n",
      "data_0.514_2.6_000540\n",
      "data_0.514_2.6_000600\n",
      "data_0.514_2.6_000680\n",
      "data_0.514_2.6_000980\n",
      "data_0.514_2.6_002660\n",
      "data_0.514_2.6_004160\n",
      "data_0.514_2.6_005600\n",
      "data_0.514_2.6_006460\n",
      "data_0.514_2.8_000100\n",
      "data_0.514_2.8_000120\n",
      "data_0.514_2.8_000140\n",
      "data_0.514_2.8_000200\n",
      "data_0.514_2.8_000240\n",
      "data_0.514_2.8_000320\n",
      "data_0.514_2.8_000400\n",
      "data_0.514_2.8_000460\n",
      "data_0.514_2.8_000600\n",
      "data_0.514_2.8_001080\n",
      "data_0.514_2.8_002000\n",
      "data_0.514_2.8_005540\n",
      "data_0.514_2.8_005980\n",
      "data_0.514_3.2_000180\n",
      "data_0.514_3.2_000200\n",
      "data_0.514_3.2_000220\n",
      "data_0.514_3.2_000240\n",
      "data_0.514_3.2_000260\n",
      "data_0.514_3.2_000280\n",
      "data_0.514_3.2_000300\n",
      "data_0.514_3.2_000340\n",
      "data_0.514_3.2_000400\n",
      "data_0.514_3.2_000440\n",
      "data_0.514_3.2_000500\n",
      "data_0.514_3.2_000580\n",
      "data_0.514_3.2_000660\n",
      "data_0.514_3.2_000740\n",
      "data_0.514_3.2_000860\n",
      "data_0.514_3.2_000960\n",
      "data_0.514_3.2_001080\n",
      "data_0.514_3.2_001300\n",
      "data_0.514_3.2_001560\n",
      "data_0.514_3.2_001820\n",
      "data_0.514_3.2_002200\n",
      "data_0.514_3.2_002800\n",
      "data_0.514_3.2_003720\n",
      "data_0.514_3.2_004780\n",
      "data_0.514_3.2_005300\n",
      "data_0.514_3.2_006860\n",
      "data_0.514_3.4_000080\n",
      "data_0.514_3.4_000100\n",
      "data_0.514_3.4_000120\n",
      "data_0.514_3.4_000160\n",
      "data_0.514_3.4_000180\n",
      "data_0.514_3.4_000200\n",
      "data_0.514_3.4_000240\n",
      "data_0.514_3.4_000360\n",
      "data_0.514_3.4_000400\n",
      "data_0.514_3.4_000440\n",
      "data_0.514_3.4_000500\n",
      "data_0.514_3.4_000560\n",
      "data_0.514_3.4_000620\n",
      "data_0.514_3.4_000700\n",
      "data_0.514_3.4_000760\n",
      "data_0.514_3.4_000820\n",
      "data_0.514_3.4_000880\n",
      "data_0.514_3.4_000960\n",
      "data_0.514_3.4_001160\n",
      "data_0.514_3.4_001400\n",
      "data_0.514_3.4_001740\n",
      "data_0.514_3.4_002200\n",
      "data_0.514_3.4_007320\n",
      "data_0.514_3.4_007500\n",
      "data_0.514_3.6_000060\n",
      "data_0.514_3.6_000080\n",
      "data_0.514_3.6_000100\n",
      "data_0.514_3.6_000120\n",
      "data_0.514_3.6_000140\n",
      "data_0.514_3.6_000160\n",
      "data_0.514_3.6_000180\n",
      "data_0.514_3.6_000200\n",
      "data_0.514_3.6_000220\n",
      "data_0.514_3.6_000280\n",
      "data_0.514_3.6_000320\n",
      "data_0.514_3.6_000360\n",
      "data_0.514_3.6_000460\n",
      "data_0.514_3.6_000500\n",
      "data_0.514_3.6_000560\n",
      "data_0.514_3.6_000640\n",
      "data_0.514_3.6_000720\n",
      "data_0.514_3.6_000840\n",
      "data_0.514_3.6_000980\n",
      "data_0.514_3.6_001180\n",
      "data_0.514_3.6_001360\n",
      "data_0.514_3.6_001480\n",
      "data_0.514_3.6_001660\n",
      "data_0.514_3.6_001920\n",
      "data_0.514_3.6_002100\n",
      "data_0.514_3.6_002520\n",
      "data_0.514_3.6_003320\n",
      "data_0.514_3.6_005000\n",
      "data_0.514_3.6_006980\n",
      "data_0.514_3.6_007020\n",
      "data_0.514_3.8_000100\n",
      "data_0.514_3.8_000120\n",
      "data_0.514_3.8_000140\n",
      "data_0.514_3.8_000160\n",
      "data_0.514_3.8_000180\n",
      "data_0.514_3.8_000200\n",
      "data_0.514_3.8_000240\n",
      "data_0.514_3.8_000280\n",
      "data_0.514_3.8_000300\n",
      "data_0.514_3.8_000340\n",
      "data_0.514_3.8_000380\n",
      "data_0.514_3.8_000400\n",
      "data_0.514_3.8_000460\n",
      "data_0.514_3.8_000520\n",
      "data_0.514_3.8_000660\n",
      "data_0.514_3.8_000740\n",
      "data_0.514_3.8_000860\n",
      "data_0.514_3.8_001080\n",
      "data_0.514_3.8_001360\n",
      "data_0.514_3.8_001640\n",
      "data_0.514_3.8_001900\n",
      "data_0.514_3.8_002100\n",
      "data_0.514_3.8_003240\n",
      "data_0.514_3.8_003840\n",
      "data_0.514_3.8_004240\n",
      "data_0.514_3.8_006040\n",
      "data_0.514_3.8_007040\n",
      "data_0.514_4.0_000040\n",
      "data_0.514_4.0_000060\n",
      "data_0.514_4.0_000080\n",
      "data_0.514_4.0_000100\n",
      "data_0.514_4.0_000120\n",
      "data_0.514_4.0_000140\n",
      "data_0.514_4.0_000160\n",
      "data_0.514_4.0_000180\n",
      "data_0.514_4.0_000200\n",
      "data_0.514_4.0_000220\n",
      "data_0.514_4.0_000260\n",
      "data_0.514_4.0_000280\n",
      "data_0.514_4.0_000320\n",
      "data_0.514_4.0_000340\n",
      "data_0.514_4.0_000380\n",
      "data_0.514_4.0_000440\n",
      "data_0.514_4.0_000500\n",
      "data_0.514_4.0_000560\n",
      "data_0.514_4.0_000680\n",
      "data_0.514_4.0_000880\n",
      "data_0.514_4.0_001080\n",
      "data_0.514_4.0_001700\n",
      "data_0.514_4.0_002020\n",
      "data_0.514_4.0_002320\n",
      "data_0.514_4.0_005200\n",
      "data_0.514_4.0_007020\n",
      "data_0.528_2.4_000040\n",
      "data_0.528_2.4_000060\n",
      "data_0.528_2.4_000120\n",
      "data_0.528_2.4_000200\n",
      "data_0.528_2.4_000240\n",
      "data_0.528_2.4_000340\n",
      "data_0.528_2.4_000400\n",
      "data_0.528_2.4_000520\n",
      "data_0.528_2.4_000600\n",
      "data_0.528_2.4_000660\n",
      "data_0.528_2.4_000760\n",
      "data_0.528_2.4_000940\n",
      "data_0.528_2.4_001200\n",
      "data_0.528_2.4_001820\n",
      "data_0.528_2.4_002480\n",
      "data_0.528_2.4_003740\n",
      "data_0.528_2.4_006460\n",
      "data_0.528_2.6_000040\n",
      "data_0.528_2.6_000080\n",
      "data_0.528_2.6_000100\n",
      "data_0.528_2.6_000120\n",
      "data_0.528_2.6_000140\n",
      "data_0.528_2.6_000180\n",
      "data_0.528_2.6_000240\n",
      "data_0.528_2.6_000260\n",
      "data_0.528_2.6_000300\n",
      "data_0.528_2.6_000380\n",
      "data_0.528_2.6_000460\n",
      "data_0.528_2.6_000520\n",
      "data_0.528_2.6_000580\n",
      "data_0.528_2.6_000660\n",
      "data_0.528_2.6_000940\n",
      "data_0.528_2.6_002660\n",
      "data_0.528_2.6_003940\n",
      "data_0.528_2.6_005460\n",
      "data_0.528_2.6_006300\n",
      "data_0.528_2.8_000040\n",
      "data_0.528_2.8_000080\n",
      "data_0.528_2.8_000100\n",
      "data_0.528_2.8_000140\n",
      "data_0.528_2.8_000160\n",
      "data_0.528_2.8_000180\n",
      "data_0.528_2.8_000440\n",
      "data_0.528_2.8_000500\n",
      "data_0.528_2.8_000660\n",
      "data_0.528_2.8_001220\n",
      "data_0.528_2.8_001560\n",
      "data_0.528_2.8_003680\n",
      "data_0.528_2.8_004880\n",
      "data_0.528_2.8_006380\n",
      "data_0.528_3.2_000080\n",
      "data_0.528_3.2_000100\n",
      "data_0.528_3.2_000120\n",
      "data_0.528_3.2_000140\n",
      "data_0.528_3.2_000160\n",
      "data_0.528_3.2_000180\n",
      "data_0.528_3.2_000200\n",
      "data_0.528_3.2_000220\n",
      "data_0.528_3.2_000240\n",
      "data_0.528_3.2_000260\n",
      "data_0.528_3.2_000280\n",
      "data_0.528_3.2_000320\n",
      "data_0.528_3.2_000360\n",
      "data_0.528_3.2_000420\n",
      "data_0.528_3.2_000480\n",
      "data_0.528_3.2_000560\n",
      "data_0.528_3.2_000640\n",
      "data_0.528_3.2_000720\n",
      "data_0.528_3.2_000780\n",
      "data_0.528_3.2_000880\n",
      "data_0.528_3.2_001860\n",
      "data_0.528_3.2_002320\n",
      "data_0.528_3.2_002820\n",
      "data_0.528_3.2_003500\n",
      "data_0.528_3.2_005380\n",
      "data_0.528_3.2_007540\n",
      "data_0.528_3.2_007560\n",
      "data_0.528_3.4_000080\n",
      "data_0.528_3.4_000100\n",
      "data_0.528_3.4_000120\n",
      "data_0.528_3.4_000140\n",
      "data_0.528_3.4_000160\n",
      "data_0.528_3.4_000180\n",
      "data_0.528_3.4_000200\n",
      "data_0.528_3.4_000240\n",
      "data_0.528_3.4_000260\n",
      "data_0.528_3.4_000300\n",
      "data_0.528_3.4_000340\n",
      "data_0.528_3.4_000380\n",
      "data_0.528_3.4_000440\n",
      "data_0.528_3.4_000500\n",
      "data_0.528_3.4_000560\n",
      "data_0.528_3.4_000640\n",
      "data_0.528_3.4_000740\n",
      "data_0.528_3.4_000840\n",
      "data_0.528_3.4_000980\n",
      "data_0.528_3.4_001200\n",
      "data_0.528_3.4_001380\n",
      "data_0.528_3.4_001580\n",
      "data_0.528_3.4_001780\n",
      "data_0.528_3.4_001980\n",
      "data_0.528_3.4_002380\n",
      "data_0.528_3.4_003280\n",
      "data_0.528_3.4_004620\n",
      "data_0.528_3.4_005740\n",
      "data_0.528_3.4_006440\n",
      "data_0.528_3.4_007500\n",
      "data_0.528_3.6_000080\n",
      "data_0.528_3.6_000120\n",
      "data_0.528_3.6_000260\n",
      "data_0.528_3.6_000280\n",
      "data_0.528_3.6_000320\n",
      "data_0.528_3.6_000360\n",
      "data_0.528_3.6_000380\n",
      "data_0.528_3.6_000440\n",
      "data_0.528_3.6_000480\n",
      "data_0.528_3.6_000540\n",
      "data_0.528_3.6_000620\n",
      "data_0.528_3.6_000700\n",
      "data_0.528_3.6_000800\n",
      "data_0.528_3.6_000900\n",
      "data_0.528_3.6_001060\n",
      "data_0.528_3.6_001240\n",
      "data_0.528_3.6_001400\n",
      "data_0.528_3.6_001640\n",
      "data_0.528_3.6_001940\n",
      "data_0.528_3.6_002120\n",
      "data_0.528_3.6_003200\n",
      "data_0.528_3.6_004040\n",
      "data_0.528_3.6_005180\n",
      "data_0.528_3.6_006780\n",
      "data_0.528_3.6_007080\n",
      "data_0.528_3.8_000080\n",
      "data_0.528_3.8_000100\n",
      "data_0.528_3.8_000120\n",
      "data_0.528_3.8_000140\n",
      "data_0.528_3.8_000160\n",
      "data_0.528_3.8_000180\n",
      "data_0.528_3.8_000220\n",
      "data_0.528_3.8_000240\n",
      "data_0.528_3.8_000280\n",
      "data_0.528_3.8_000300\n",
      "data_0.528_3.8_000340\n",
      "data_0.528_3.8_000400\n",
      "data_0.528_3.8_000460\n",
      "data_0.528_3.8_000520\n",
      "data_0.528_3.8_000580\n",
      "data_0.528_3.8_000640\n",
      "data_0.528_3.8_000740\n",
      "data_0.528_3.8_000900\n",
      "data_0.528_3.8_001260\n",
      "data_0.528_3.8_001500\n",
      "data_0.528_3.8_001700\n",
      "data_0.528_3.8_001920\n",
      "data_0.528_3.8_002300\n",
      "data_0.528_3.8_002740\n",
      "data_0.528_3.8_003360\n",
      "data_0.528_3.8_003960\n",
      "data_0.528_3.8_004420\n",
      "data_0.528_3.8_005900\n",
      "data_0.528_3.8_007080\n",
      "data_0.528_4.0_000040\n",
      "data_0.528_4.0_000060\n",
      "data_0.528_4.0_000080\n",
      "data_0.528_4.0_000100\n",
      "data_0.528_4.0_000140\n",
      "data_0.528_4.0_000160\n",
      "data_0.528_4.0_000180\n",
      "data_0.528_4.0_000200\n",
      "data_0.528_4.0_000220\n",
      "data_0.528_4.0_000240\n",
      "data_0.528_4.0_000280\n",
      "data_0.528_4.0_000320\n",
      "data_0.528_4.0_000340\n",
      "data_0.528_4.0_000380\n",
      "data_0.528_4.0_000440\n",
      "data_0.528_4.0_000520\n",
      "data_0.528_4.0_000920\n",
      "data_0.528_4.0_001100\n",
      "data_0.528_4.0_001260\n",
      "data_0.528_4.0_001460\n",
      "data_0.528_4.0_001720\n",
      "data_0.528_4.0_001980\n",
      "data_0.528_4.0_002240\n",
      "data_0.528_4.0_002660\n",
      "data_0.528_4.0_003300\n",
      "data_0.528_4.0_003820\n",
      "data_0.528_4.0_005000\n",
      "data_0.528_4.0_006960\n",
      "data_0.543_2.4_000040\n",
      "data_0.543_2.4_000080\n"
     ]
    },
    {
     "name": "stdout",
     "output_type": "stream",
     "text": [
      "data_0.543_2.4_000100\n",
      "data_0.543_2.4_000160\n",
      "data_0.543_2.4_000200\n",
      "data_0.543_2.4_000240\n",
      "data_0.543_2.4_000280\n",
      "data_0.543_2.4_000320\n",
      "data_0.543_2.4_000460\n",
      "data_0.543_2.4_000600\n",
      "data_0.543_2.4_000740\n",
      "data_0.543_2.4_001040\n",
      "data_0.543_2.4_001300\n",
      "data_0.543_2.4_001400\n",
      "data_0.543_2.4_001980\n",
      "data_0.543_2.4_003400\n",
      "data_0.543_2.4_005620\n",
      "data_0.543_2.4_006400\n",
      "data_0.543_2.6_000040\n",
      "data_0.543_2.6_000060\n",
      "data_0.543_2.6_000080\n",
      "data_0.543_2.6_000100\n",
      "data_0.543_2.6_000120\n",
      "data_0.543_2.6_000140\n",
      "data_0.543_2.6_000160\n",
      "data_0.543_2.6_000200\n",
      "data_0.543_2.6_000240\n",
      "data_0.543_2.6_000300\n",
      "data_0.543_2.6_000360\n",
      "data_0.543_2.6_000440\n",
      "data_0.543_2.6_000500\n",
      "data_0.543_2.6_000560\n",
      "data_0.543_2.6_000740\n",
      "data_0.543_2.6_001240\n",
      "data_0.543_2.6_002260\n",
      "data_0.543_2.6_003380\n",
      "data_0.543_2.6_003900\n",
      "data_0.543_2.6_006020\n",
      "data_0.543_2.8_000040\n",
      "data_0.543_2.8_000080\n",
      "data_0.543_2.8_000100\n",
      "data_0.543_2.8_000120\n",
      "data_0.543_2.8_000160\n",
      "data_0.543_2.8_000200\n",
      "data_0.543_2.8_000260\n",
      "data_0.543_2.8_000360\n",
      "data_0.543_2.8_000460\n",
      "data_0.543_2.8_000560\n",
      "data_0.543_2.8_000740\n",
      "data_0.543_2.8_000980\n",
      "data_0.543_2.8_001100\n",
      "data_0.543_2.8_001600\n",
      "data_0.543_2.8_001840\n",
      "data_0.543_2.8_002600\n",
      "data_0.543_2.8_003580\n",
      "data_0.543_2.8_005740\n",
      "data_0.543_2.8_006140\n",
      "data_0.543_3.2_000040\n",
      "data_0.543_3.2_000060\n",
      "data_0.543_3.2_000100\n",
      "data_0.543_3.2_000120\n",
      "data_0.543_3.2_000140\n",
      "data_0.543_3.2_000160\n",
      "data_0.543_3.2_000180\n",
      "data_0.543_3.2_000200\n",
      "data_0.543_3.2_000220\n",
      "data_0.543_3.2_000240\n",
      "data_0.543_3.2_000260\n",
      "data_0.543_3.2_000280\n",
      "data_0.543_3.2_000300\n",
      "data_0.543_3.2_000340\n",
      "data_0.543_3.2_000380\n",
      "data_0.543_3.2_000440\n",
      "data_0.543_3.2_000500\n",
      "data_0.543_3.2_000580\n",
      "data_0.543_3.2_000660\n",
      "data_0.543_3.2_000800\n",
      "data_0.543_3.2_000900\n",
      "data_0.543_3.2_001060\n",
      "data_0.543_3.2_001240\n",
      "data_0.543_3.2_001520\n",
      "data_0.543_3.2_002100\n",
      "data_0.543_3.2_002560\n",
      "data_0.543_3.2_002860\n",
      "data_0.543_3.2_003440\n",
      "data_0.543_3.2_004360\n",
      "data_0.543_3.4_000080\n",
      "data_0.543_3.4_000100\n",
      "data_0.543_3.4_000120\n",
      "data_0.543_3.4_000140\n",
      "data_0.543_3.4_000160\n",
      "data_0.543_3.4_000180\n",
      "data_0.543_3.4_000200\n",
      "data_0.543_3.4_000220\n",
      "data_0.543_3.4_000240\n",
      "data_0.543_3.4_000280\n",
      "data_0.543_3.4_000320\n",
      "data_0.543_3.4_000360\n",
      "data_0.543_3.4_000420\n",
      "data_0.543_3.4_000460\n",
      "data_0.543_3.4_000600\n",
      "data_0.543_3.4_000660\n",
      "data_0.543_3.4_000720\n",
      "data_0.543_3.4_000800\n",
      "data_0.543_3.4_000940\n",
      "data_0.543_3.4_001100\n",
      "data_0.543_3.4_001220\n",
      "data_0.543_3.4_001380\n",
      "data_0.543_3.4_001560\n",
      "data_0.543_3.4_001760\n",
      "data_0.543_3.4_001960\n",
      "data_0.543_3.4_002960\n",
      "data_0.543_3.4_004020\n",
      "data_0.543_3.4_005180\n",
      "data_0.543_3.4_005920\n",
      "data_0.543_3.4_007400\n",
      "data_0.543_3.6_000200\n",
      "data_0.543_3.6_000280\n",
      "data_0.543_3.6_000300\n",
      "data_0.543_3.6_000340\n",
      "data_0.543_3.6_000380\n",
      "data_0.543_3.6_000440\n",
      "data_0.543_3.6_000480\n",
      "data_0.543_3.6_000540\n",
      "data_0.543_3.6_000600\n",
      "data_0.543_3.6_000820\n",
      "data_0.543_3.6_000960\n",
      "data_0.543_3.6_001160\n",
      "data_0.543_3.6_001380\n",
      "data_0.543_3.6_001580\n",
      "data_0.543_3.6_001760\n",
      "data_0.543_3.6_002040\n",
      "data_0.543_3.6_002340\n",
      "data_0.543_3.6_003740\n",
      "data_0.543_3.6_005340\n",
      "data_0.543_3.6_007180\n",
      "data_0.543_3.8_000060\n",
      "data_0.543_3.8_000080\n",
      "data_0.543_3.8_000100\n",
      "data_0.543_3.8_000140\n",
      "data_0.543_3.8_000160\n",
      "data_0.543_3.8_000180\n",
      "data_0.543_3.8_000280\n",
      "data_0.543_3.8_000320\n",
      "data_0.543_3.8_000360\n",
      "data_0.543_3.8_000400\n",
      "data_0.543_3.8_000440\n",
      "data_0.543_3.8_000480\n",
      "data_0.543_3.8_000660\n",
      "data_0.543_3.8_000740\n",
      "data_0.543_3.8_000860\n",
      "data_0.543_3.8_000960\n",
      "data_0.543_3.8_001180\n",
      "data_0.543_3.8_001640\n",
      "data_0.543_3.8_002000\n",
      "data_0.543_3.8_002740\n",
      "data_0.543_3.8_003340\n",
      "data_0.543_3.8_004540\n",
      "data_0.543_3.8_005480\n",
      "data_0.543_3.8_007100\n",
      "data_0.543_4.0_000060\n",
      "data_0.543_4.0_000080\n",
      "data_0.543_4.0_000100\n",
      "data_0.543_4.0_000120\n",
      "data_0.543_4.0_000140\n",
      "data_0.543_4.0_000160\n",
      "data_0.543_4.0_000180\n",
      "data_0.543_4.0_000200\n",
      "data_0.543_4.0_000240\n",
      "data_0.543_4.0_000260\n",
      "data_0.543_4.0_000300\n",
      "data_0.543_4.0_000340\n",
      "data_0.543_4.0_000380\n",
      "data_0.543_4.0_000460\n",
      "data_0.543_4.0_000520\n",
      "data_0.543_4.0_000620\n",
      "data_0.543_4.0_000740\n",
      "data_0.543_4.0_000840\n",
      "data_0.543_4.0_000920\n",
      "data_0.543_4.0_001020\n",
      "data_0.543_4.0_001100\n",
      "data_0.543_4.0_001220\n",
      "data_0.543_4.0_001500\n",
      "data_0.543_4.0_001700\n",
      "data_0.543_4.0_002140\n",
      "data_0.543_4.0_002940\n",
      "data_0.543_4.0_003860\n",
      "data_0.543_4.0_004560\n",
      "data_0.558_2.4_000040\n",
      "data_0.558_2.4_000060\n",
      "data_0.558_2.4_000080\n",
      "data_0.558_2.4_000100\n",
      "data_0.558_2.4_000120\n",
      "data_0.558_2.4_000140\n",
      "data_0.558_2.4_000180\n",
      "data_0.558_2.4_000220\n",
      "data_0.558_2.4_000260\n",
      "data_0.558_2.4_000280\n",
      "data_0.558_2.4_000340\n",
      "data_0.558_2.4_000360\n",
      "data_0.558_2.4_000440\n",
      "data_0.558_2.4_000580\n"
     ]
    }
   ],
   "source": [
    "#os.chdir(r'/Users/devyanijivani/git/pygraspi/notebooks/data')\n",
    "dest = \"/Users/devyanijivani/git/pygraspi/notebooks/junctions\"\n",
    "myFiles = glob.glob('*.txt')\n",
    "myFiles.sort()\n",
    "\n",
    "for i, file in enumerate(myFiles):\n",
    "    morph = np.array(pandas.read_csv(file, delimiter=' ', header=None)).swapaxes(0, 1)\n",
    "    skel, distance = medial_axis(morph, return_distance=True)\n",
    "    graph = sknw.build_sknw(skel)\n",
    "    for (s,e) in graph.edges():\n",
    "        ps = graph[s][e]['pts']\n",
    "        plt.plot(ps[:,1], ps[:,0], 'green', zorder=-1)\n",
    "\n",
    "    # draw node by o\n",
    "    nodes = graph.nodes()\n",
    "    ps = np.array([nodes[i]['o'] for i in nodes], dtype = int)\n",
    "    plt.scatter(ps[:,1], ps[:,0], s = 1, c ='r')\n",
    "\n",
    "    # title and show\n",
    "    plt.title('Build Graph')\n",
    "    \n",
    "    plt.gca().set_aspect('equal')\n",
    "    print(os.path.splitext(file)[0])\n",
    "    \n",
    "    file_loc = os.path.join(dest, os.path.splitext(file)[0]+'.png')\n",
    "    #print(file_loc)\n",
    "    #plt.savefig(file_loc,dpi=1200)\n",
    "    \n",
    "    plt.close()\n"
   ]
  },
  {
   "cell_type": "code",
   "execution_count": 3,
   "id": "2d3f6212",
   "metadata": {},
   "outputs": [
    {
     "data": {
      "text/plain": [
       "'/Users/devyanijivani/git/pygraspi/notebooks'"
      ]
     },
     "execution_count": 3,
     "metadata": {},
     "output_type": "execute_result"
    }
   ],
   "source": [
    "pwd"
   ]
  },
  {
   "cell_type": "code",
   "execution_count": 36,
   "id": "0c7e9c6e",
   "metadata": {},
   "outputs": [],
   "source": [
    "def skeletonize(morph):\n",
    "    skel, distance = medial_axis(morph, return_distance=True)\n",
    "    return skel, distance    "
   ]
  },
  {
   "cell_type": "code",
   "execution_count": 39,
   "id": "7b4482e3",
   "metadata": {},
   "outputs": [],
   "source": [
    "morph = np.array([[1,1,1],\\\n",
    "                [1,1,1],\\\n",
    "                [1,1,1]])\n",
    "skel = skeletonize(morph)[0]"
   ]
  },
  {
   "cell_type": "code",
   "execution_count": 40,
   "id": "69726ffd",
   "metadata": {},
   "outputs": [
    {
     "data": {
      "text/plain": [
       "array([[False, False,  True],\n",
       "       [False, False,  True],\n",
       "       [ True,  True, False]])"
      ]
     },
     "execution_count": 40,
     "metadata": {},
     "output_type": "execute_result"
    }
   ],
   "source": [
    "skel"
   ]
  },
  {
   "cell_type": "code",
   "execution_count": 41,
   "id": "d6a89ba2",
   "metadata": {},
   "outputs": [],
   "source": [
    "def getEndJunction(graph):\n",
    "    l = [graph.degree[n] for n in graph.nodes()]\n",
    "    return np.array([l.count(1), l.count(3)])\n"
   ]
  },
  {
   "cell_type": "code",
   "execution_count": 43,
   "id": "92eadf63",
   "metadata": {},
   "outputs": [],
   "source": [
    "graph = sknw.build_sknw(skel)"
   ]
  },
  {
   "cell_type": "code",
   "execution_count": 44,
   "id": "c80c5b82",
   "metadata": {},
   "outputs": [
    {
     "data": {
      "text/plain": [
       "array([2, 0])"
      ]
     },
     "execution_count": 44,
     "metadata": {},
     "output_type": "execute_result"
    }
   ],
   "source": [
    "getEndJunction(graph)"
   ]
  },
  {
   "cell_type": "code",
   "execution_count": 49,
   "id": "b12170e3",
   "metadata": {},
   "outputs": [],
   "source": [
    "def getBranchLen(graph):\n",
    "    b_l = [graph.edges[e]['weight'] for e in graph.edges()]\n",
    "    return np.array([len(b_l), round(sum(b_l)/len(b_l), 2)])        \n"
   ]
  },
  {
   "cell_type": "code",
   "execution_count": 50,
   "id": "ca96ec7b",
   "metadata": {},
   "outputs": [
    {
     "data": {
      "text/plain": [
       "array([1.  , 3.41])"
      ]
     },
     "execution_count": 50,
     "metadata": {},
     "output_type": "execute_result"
    }
   ],
   "source": [
    "getBranchLen(graph)"
   ]
  },
  {
   "cell_type": "code",
   "execution_count": null,
   "id": "20c7b8ec",
   "metadata": {},
   "outputs": [],
   "source": []
  }
 ],
 "metadata": {
  "kernelspec": {
   "display_name": "Python 3 (ipykernel)",
   "language": "python",
   "name": "python3"
  },
  "language_info": {
   "codemirror_mode": {
    "name": "ipython",
    "version": 3
   },
   "file_extension": ".py",
   "mimetype": "text/x-python",
   "name": "python",
   "nbconvert_exporter": "python",
   "pygments_lexer": "ipython3",
   "version": "3.9.6"
  }
 },
 "nbformat": 4,
 "nbformat_minor": 5
}

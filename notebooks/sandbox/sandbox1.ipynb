{
 "cells": [
  {
   "cell_type": "code",
   "execution_count": 1,
   "id": "registered-neighborhood",
   "metadata": {},
   "outputs": [],
   "source": [
    "import networkx\n",
    "import numpy as np\n",
    "from itertools import product\n",
    "import numpy.ma as ma\n",
    "from toolz.curried import pipe, curry\n",
    "from toolz.curried import map as fmap"
   ]
  },
  {
   "cell_type": "code",
   "execution_count": 2,
   "id": "db016a94",
   "metadata": {},
   "outputs": [],
   "source": [
    "cond = lambda x: (x[:, 1] != -1) & (x[:, 0] != -1)\n",
    "\n",
    "def merge_edges(neighbors, ids):\n",
    "    return pipe(\n",
    "        ids,\n",
    "        lambda x: np.reshape(x.flatten(), (-1, 1, 1)),\n",
    "        lambda x: np.repeat(x, neighbors.shape[1], axis=1),\n",
    "        lambda x: np.concatenate((x, neighbors), axis=-1).reshape(-1, 2),\n",
    "        lambda x: x[cond(x)],\n",
    "    )\n",
    "\n",
    "def index_vectors(nx, ny, nz):\n",
    "    index2D = ([1, 0, 0], [1, 1, 0], [0, 1, 0], [-1, 1, 0])\n",
    "    if ny == nz == 1:\n",
    "        return ([1, 0, 0],)\n",
    "    if nz == 1:\n",
    "        return index2D\n",
    "    else:\n",
    "        return index2D + tuple([x, y, 1] for x in (1, 0, -1) for y in (1, 0, -1))\n",
    "\n",
    "def make_ids_padded(ids):\n",
    "    nx, ny, nz = ids.shape\n",
    "    ids_padded = -np.ones((nx + 2, ny + 2, nz + 2), dtype=int)\n",
    "    ids_padded[1:-1, 1:-1, 1:-1] = ids\n",
    "    return ids_padded\n",
    "\n",
    "@curry\n",
    "def make_sub_ids(ids_padded, indices):\n",
    "    nx, ny, nz = ids_padded.shape\n",
    "    left, up, front = indices\n",
    "    return ids_padded[1 + left:nx - 1 + left, 1 + up:ny - 1 + up, 1 + front:nz - 1 + front][..., None]\n",
    "\n",
    "def make_neighbors(ids):\n",
    "    nx, ny, nz = ids.shape\n",
    "    ids_padded = make_ids_padded(ids)\n",
    "    \n",
    "    return pipe(\n",
    "        index_vectors(nx, ny, nz),\n",
    "        fmap(make_sub_ids(ids_padded)),\n",
    "        list,\n",
    "        lambda x: np.concatenate(x, axis=-1).reshape(nx * ny * nz, len(x), 1)\n",
    "    )\n",
    "\n",
    "def make_grid_edges(nx=1, ny=1, nz=1):\n",
    "    ids = np.arange(nx * ny * nz).reshape(nx, ny, nz)\n",
    "    return merge_edges(make_neighbors(ids), ids)\n",
    "\n",
    "def make_grid_graph(shape):\n",
    "    g = networkx.Graph()\n",
    "    g.add_nodes_from(np.arange(np.prod(shape)))\n",
    "    g.add_edges_from(make_grid_edges(*shape))\n",
    "    return g\n",
    "\n",
    "#g = make_grid_graph((10, 5, 5))\n",
    "#networkx.draw(g)\n"
   ]
  },
  {
   "cell_type": "code",
   "execution_count": 3,
   "id": "961abb3e",
   "metadata": {},
   "outputs": [],
   "source": [
    "import networkx as nx\n",
    "morph = np.array([[0, 0, 0], [1, 1, 1], [0, 0, 0]])"
   ]
  },
  {
   "cell_type": "code",
   "execution_count": 4,
   "id": "b52d958b",
   "metadata": {},
   "outputs": [],
   "source": [
    "vertex_colors = morph.flatten()"
   ]
  },
  {
   "cell_type": "code",
   "execution_count": 5,
   "id": "81db0894",
   "metadata": {},
   "outputs": [],
   "source": [
    "def makeImageGraph(morph):\n",
    "    G = make_grid_graph(morph.shape)\n",
    "    vertex_colors = morph.flatten()\n",
    "    mapping = {(i):vertex_colors[i] for i in range(len(vertex_colors))}\n",
    "    nx.set_node_attributes(G, mapping, name=\"color\")\n",
    "    return G\n",
    "\n",
    "def count_of_vertices(G, phase):\n",
    "    phases = nx.get_node_attributes(G, \"color\")\n",
    "    phase_list = list(phases.values())\n",
    "    return phase_list.count(phase)\n",
    "\n",
    "def node_phaseA(n, G):\n",
    "    nodes = G.nodes\n",
    "    return nodes[n][\"color\"] == 0\n",
    "\n",
    "\n",
    "def node_phaseB(n, G):\n",
    "    nodes = G.nodes\n",
    "    return nodes[n][\"color\"] == 1\n",
    "\n",
    "\n",
    "def makeInterfaceEdges(G):\n",
    "    interface = [\n",
    "        (n, u)\n",
    "        for n, u in G.edges()\n",
    "        if (node_phaseA(n, G) and node_phaseB(u, G))\n",
    "        or (node_phaseB(n, G) and node_phaseA(u, G))\n",
    "    ]\n",
    "    G.remove_edges_from(interface)\n",
    "    G.add_node(-1, color = \"green\")\n",
    "    interface = np.unique(np.array(interface))\n",
    "    interface_edges = [(x, -1) for x in interface]\n",
    "    G.add_edges_from(interface_edges)\n",
    "    return G\n",
    "\n",
    "def makeConnectedComponents(G, phase):\n",
    "    nodes = (node for node, data in G.nodes(data=True) if data.get(\"color\") == phase)\n",
    "    subgraph = G.subgraph(nodes)\n",
    "    subgraph.nodes\n",
    "    return nx.number_connected_components(subgraph)\n",
    "\n",
    "def interfaceArea(G):\n",
    "    #for neighbor in G.neighbors(x):\n",
    "    #print(G.nodes[neighbor][\"time\"])\n",
    "    nodes_0 = [neighbor for neighbor in G.neighbors(-1) if G.nodes[neighbor][\"color\"] == 0]\n",
    "    nodes_1 = [neighbor for neighbor in G.neighbors(-1) if G.nodes[neighbor][\"color\"] == 1]\n",
    "    return G.degree[-1], len(nodes_0), len(nodes_1)\n",
    "\n",
    "def shortest_distances_all(G):\n",
    "    path = nx.shortest_path(G, target=-1, weight=None, method='dijkstra')\n",
    "    del path[-1]\n",
    "    path_length = [len(p) for p in path.values()]\n",
    "    return sum(path_length)/len(path_length)\n",
    "\n",
    "def shortest_distances_phase(G, phase):\n",
    "    source = [node for node, data in g.nodes(data=True) if data.get(\"color\") == phase]\n",
    "    path = [nx.shortest_path(g, s, target=-1, weight=None, method='dijkstra') for s in source]\n",
    "    path_length = [len(p) for p in path]\n",
    "    return sum(path_length)/len(path_length)\n",
    "\n",
    "def shortest_dist_boundary(G, phase):\n",
    "    path = nx.single_source_shortest_path(g, -1)\n",
    "    path_length = [len(p) for p in path.values()]\n",
    "    return sum(path_length)/len(path_length)\n",
    "\n",
    "def tortuosity(G, phase):\n",
    "    return None\n",
    "    \n",
    "def interface_boundary(G, phase):\n",
    "    return None\n"
   ]
  },
  {
   "cell_type": "code",
   "execution_count": 6,
   "id": "518c609c",
   "metadata": {},
   "outputs": [],
   "source": [
    "g = makeImageGraph(morph)"
   ]
  },
  {
   "cell_type": "code",
   "execution_count": 7,
   "id": "da0da7cb",
   "metadata": {},
   "outputs": [],
   "source": [
    "phase_0_count = count_of_vertices(g, 0)\n",
    "phase_1_count = count_of_vertices(g, 1)"
   ]
  },
  {
   "cell_type": "code",
   "execution_count": 8,
   "id": "c69edf71",
   "metadata": {},
   "outputs": [],
   "source": [
    "g = makeInterfaceEdges(g)\n"
   ]
  },
  {
   "cell_type": "code",
   "execution_count": 17,
   "id": "17e466d1",
   "metadata": {},
   "outputs": [],
   "source": [
    "def makeGraspiDescriptors(data):\n",
    "    # phase 1\n",
    "    g = makeImageGraph(morph)\n",
    "    g = makeInterfaceEdges(g)\n",
    "    [interface_area, phase_0_interface, phase_1_interface] = interfaceArea(g)\n",
    "    \n",
    "    return dict(\n",
    "        phase_0_count = count_of_vertices(g, 0),\n",
    "        phase_1_count = count_of_vertices(g, 1),\n",
    "        phase_0_cc = makeConnectedComponents(g, 0),\n",
    "        phase_1_cc = makeConnectedComponents(g, 1),\n",
    "        interfacial_area = interface_area,\n",
    "        phase_0_interface = phase_0_interface,\n",
    "        phase_1_interface = phase_1_interface,\n",
    "        distance_to_interface = shortest_distances_all(g),\n",
    "        distance_to_interface_0 = shortest_distances_phase(g, 0),\n",
    "        distance_to_interface_1 = shortest_distances_phase(g, 1)\n",
    "    )\n"
   ]
  },
  {
   "cell_type": "code",
   "execution_count": 18,
   "id": "5ba967c7",
   "metadata": {},
   "outputs": [
    {
     "data": {
      "text/plain": [
       "{'phase_0_count': 6,\n",
       " 'phase_1_count': 3,\n",
       " 'phase_0_cc': 2,\n",
       " 'phase_1_cc': 1,\n",
       " 'interfacial_area': 9,\n",
       " 'phase_0_interface': 6,\n",
       " 'phase_1_interface': 3,\n",
       " 'distance_to_interface': 2.0,\n",
       " 'distance_to_interface_0': 2.0,\n",
       " 'distance_to_interface_1': 2.0}"
      ]
     },
     "execution_count": 18,
     "metadata": {},
     "output_type": "execute_result"
    }
   ],
   "source": [
    "makeGraspiDescriptors(morph)"
   ]
  },
  {
   "cell_type": "code",
   "execution_count": 14,
   "id": "2920fc7d",
   "metadata": {},
   "outputs": [
    {
     "data": {
      "text/plain": [
       "10"
      ]
     },
     "execution_count": 14,
     "metadata": {},
     "output_type": "execute_result"
    }
   ],
   "source": [
    "g.number_of_nodes()"
   ]
  },
  {
   "cell_type": "code",
   "execution_count": 19,
   "id": "f7aa9960",
   "metadata": {},
   "outputs": [
    {
     "data": {
      "text/plain": [
       "(9, 6, 3)"
      ]
     },
     "execution_count": 19,
     "metadata": {},
     "output_type": "execute_result"
    }
   ],
   "source": [
    "interfaceArea(g)"
   ]
  },
  {
   "cell_type": "code",
   "execution_count": 11,
   "id": "0ee9ad2e",
   "metadata": {},
   "outputs": [],
   "source": [
    "data = np.array([[[0, 0, 0], [1, 1, 1], [0, 0, 0], [1, 0, 0], [1, 0, 1]], [[0, 1, 1], [1, 1, 1], [0, 0, 0], [1, 0, 0], [1, 0, 1]]])"
   ]
  },
  {
   "cell_type": "code",
   "execution_count": 26,
   "id": "573059aa",
   "metadata": {},
   "outputs": [
    {
     "ename": "NameError",
     "evalue": "name 'shortest_path' is not defined",
     "output_type": "error",
     "traceback": [
      "\u001b[0;31m---------------------------------------------------------------------------\u001b[0m",
      "\u001b[0;31mNameError\u001b[0m                                 Traceback (most recent call last)",
      "\u001b[0;32m/var/folders/__/04ym3wb54lj63ycz31f859h40000gn/T/ipykernel_14255/3750987490.py\u001b[0m in \u001b[0;36m<module>\u001b[0;34m\u001b[0m\n\u001b[0;32m----> 1\u001b[0;31m \u001b[0mmakeGraspiDescriptors\u001b[0m\u001b[0;34m(\u001b[0m\u001b[0mdata\u001b[0m\u001b[0;34m)\u001b[0m\u001b[0;34m\u001b[0m\u001b[0;34m\u001b[0m\u001b[0m\n\u001b[0m",
      "\u001b[0;32m/var/folders/__/04ym3wb54lj63ycz31f859h40000gn/T/ipykernel_14255/4211883580.py\u001b[0m in \u001b[0;36mmakeGraspiDescriptors\u001b[0;34m(data)\u001b[0m\n\u001b[1;32m     13\u001b[0m         \u001b[0mphase_0_interface\u001b[0m \u001b[0;34m=\u001b[0m \u001b[0mphase_0_interface\u001b[0m\u001b[0;34m,\u001b[0m\u001b[0;34m\u001b[0m\u001b[0;34m\u001b[0m\u001b[0m\n\u001b[1;32m     14\u001b[0m         \u001b[0mphase_1_interface\u001b[0m \u001b[0;34m=\u001b[0m \u001b[0mphase_1_interface\u001b[0m\u001b[0;34m,\u001b[0m\u001b[0;34m\u001b[0m\u001b[0;34m\u001b[0m\u001b[0m\n\u001b[0;32m---> 15\u001b[0;31m         \u001b[0mdistance_to_interface\u001b[0m \u001b[0;34m=\u001b[0m \u001b[0mshortest_distances\u001b[0m\u001b[0;34m(\u001b[0m\u001b[0mg\u001b[0m\u001b[0;34m,\u001b[0m \u001b[0;36m0\u001b[0m\u001b[0;34m)\u001b[0m\u001b[0;34m\u001b[0m\u001b[0;34m\u001b[0m\u001b[0m\n\u001b[0m\u001b[1;32m     16\u001b[0m     )\n",
      "\u001b[0;32m/var/folders/__/04ym3wb54lj63ycz31f859h40000gn/T/ipykernel_14255/2523495388.py\u001b[0m in \u001b[0;36mshortest_distances\u001b[0;34m(G, phase)\u001b[0m\n\u001b[1;32m     52\u001b[0m \u001b[0;34m\u001b[0m\u001b[0m\n\u001b[1;32m     53\u001b[0m     \u001b[0;31m#path = nx.single_source_shortest_path(g, -1)\u001b[0m\u001b[0;34m\u001b[0m\u001b[0;34m\u001b[0m\u001b[0m\n\u001b[0;32m---> 54\u001b[0;31m     \u001b[0mpath\u001b[0m \u001b[0;34m=\u001b[0m \u001b[0mshortest_path\u001b[0m\u001b[0;34m(\u001b[0m\u001b[0mG\u001b[0m\u001b[0;34m,\u001b[0m \u001b[0msource\u001b[0m\u001b[0;34m,\u001b[0m \u001b[0mtarget\u001b[0m\u001b[0;34m=\u001b[0m\u001b[0;34m-\u001b[0m\u001b[0;36m1\u001b[0m\u001b[0;34m,\u001b[0m \u001b[0mweight\u001b[0m\u001b[0;34m=\u001b[0m\u001b[0;32mNone\u001b[0m\u001b[0;34m,\u001b[0m \u001b[0mmethod\u001b[0m\u001b[0;34m=\u001b[0m\u001b[0;34m'dijkstra'\u001b[0m\u001b[0;34m)\u001b[0m\u001b[0;34m\u001b[0m\u001b[0;34m\u001b[0m\u001b[0m\n\u001b[0m\u001b[1;32m     55\u001b[0m     \u001b[0;32mdel\u001b[0m \u001b[0mpath\u001b[0m\u001b[0;34m[\u001b[0m\u001b[0;34m-\u001b[0m\u001b[0;36m1\u001b[0m\u001b[0;34m]\u001b[0m\u001b[0;34m\u001b[0m\u001b[0;34m\u001b[0m\u001b[0m\n\u001b[1;32m     56\u001b[0m     \u001b[0;31m#print(path)\u001b[0m\u001b[0;34m\u001b[0m\u001b[0;34m\u001b[0m\u001b[0m\n",
      "\u001b[0;31mNameError\u001b[0m: name 'shortest_path' is not defined"
     ]
    }
   ],
   "source": [
    "makeGraspiDescriptors(data)"
   ]
  },
  {
   "cell_type": "code",
   "execution_count": 25,
   "id": "f12b1702",
   "metadata": {},
   "outputs": [],
   "source": [
    "source = [node for node, data in g.nodes(data=True) if data.get(\"color\") == 1]\n",
    "path = [nx.shortest_path(g, s, target=-1, weight=None, method='dijkstra') for s in source]\n",
    "path_length = [len(p) for p in path]"
   ]
  },
  {
   "cell_type": "code",
   "execution_count": null,
   "id": "39971ed2",
   "metadata": {},
   "outputs": [],
   "source": [
    "#path = nx.single_source_shortest_path(g, -1)\n",
    "path = nx.shortest_path(G, source, target=-1, weight=None, method='dijkstra')\n",
    "del path[-1]\n",
    "#print(path)\n",
    "path_length = [len(p) for p in path.values()]\n",
    "#print(path_length)"
   ]
  },
  {
   "cell_type": "code",
   "execution_count": 16,
   "id": "eb529756",
   "metadata": {},
   "outputs": [
    {
     "name": "stdout",
     "output_type": "stream",
     "text": [
      "[0, 1, 2, 3, 4, 5, 6, 7, 8, -1]\n"
     ]
    }
   ],
   "source": [
    "print(list(g.nodes))"
   ]
  },
  {
   "cell_type": "code",
   "execution_count": 28,
   "id": "c0975e41",
   "metadata": {},
   "outputs": [],
   "source": [
    "path = nx.shortest_path(g, target=-1, weight=None, method='dijkstra')"
   ]
  },
  {
   "cell_type": "code",
   "execution_count": 29,
   "id": "0213f9d8",
   "metadata": {},
   "outputs": [
    {
     "data": {
      "text/plain": [
       "{-1: [-1],\n",
       " 0: [0, -1],\n",
       " 1: [1, -1],\n",
       " 2: [2, -1],\n",
       " 3: [3, -1],\n",
       " 4: [4, -1],\n",
       " 5: [5, -1],\n",
       " 6: [6, -1],\n",
       " 7: [7, -1],\n",
       " 8: [8, -1]}"
      ]
     },
     "execution_count": 29,
     "metadata": {},
     "output_type": "execute_result"
    }
   ],
   "source": [
    "path"
   ]
  },
  {
   "cell_type": "code",
   "execution_count": null,
   "id": "0ebdbe6c",
   "metadata": {},
   "outputs": [],
   "source": []
  }
 ],
 "metadata": {
  "kernelspec": {
   "display_name": "Python 3 (ipykernel)",
   "language": "python",
   "name": "python3"
  },
  "language_info": {
   "codemirror_mode": {
    "name": "ipython",
    "version": 3
   },
   "file_extension": ".py",
   "mimetype": "text/x-python",
   "name": "python",
   "nbconvert_exporter": "python",
   "pygments_lexer": "ipython3",
   "version": "3.9.7"
  }
 },
 "nbformat": 4,
 "nbformat_minor": 5
}

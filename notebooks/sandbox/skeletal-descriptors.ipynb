{
 "cells": [
  {
   "cell_type": "markdown",
   "id": "f98d6db3",
   "metadata": {},
   "source": [
    "## Skeletal descriptors"
   ]
  },
  {
   "cell_type": "code",
   "execution_count": 4,
   "id": "e3b1a5ad",
   "metadata": {},
   "outputs": [],
   "source": [
    "import networkx as nx\n",
    "import numpy as np\n",
    "from itertools import product\n",
    "import numpy.ma as ma\n",
    "from toolz.curried import pipe, curry\n",
    "from toolz.curried import map as fmap\n",
    "import zipfile\n",
    "import pandas as pd\n",
    "import time\n",
    "from skimage.morphology import medial_axis, skeletonize\n",
    "import sknw\n",
    "import matplotlib.pyplot as plt"
   ]
  },
  {
   "cell_type": "code",
   "execution_count": 19,
   "id": "4e4bf754",
   "metadata": {},
   "outputs": [],
   "source": [
    "zip_stream = zipfile.ZipFile('../data/cahn-hilliard.zip', 'r')\n",
    "\n",
    "def read_data(file_name):\n",
    "    return np.array(\n",
    "        pd.read_csv(\n",
    "            zip_stream.open(file_name, 'r'),\n",
    "            delimiter=' ',\n",
    "            header=None               \n",
    "        ).swapaxes(0, 1)\n",
    "    )\n",
    "\n",
    "data = np.array(\n",
    "    list(\n",
    "        map(read_data, zip_stream.namelist()[1:])\n",
    "    )\n",
    ")"
   ]
  },
  {
   "cell_type": "code",
   "execution_count": 80,
   "id": "1886d06a",
   "metadata": {},
   "outputs": [],
   "source": [
    "def neighborhood(nx, ny):\n",
    "    vertex_list = np.array(range(nx * ny))\n",
    "    # neighborhood = np.zeros([vertex_list.shape[0], 8])\n",
    "\n",
    "    return neighborhood\n",
    "\n",
    "\n",
    "def skeletonize(morph):\n",
    "    skel, distance = medial_axis(morph, return_distance=True)\n",
    "    return skel, distance\n",
    "\n",
    "\n",
    "def skeletal_len(skeleton):\n",
    "    return np.count_nonzero(skeleton)\n",
    "\n",
    "\n",
    "def f_skeletal_pixels(skeleton):\n",
    "    count = np.count_nonzero(skeleton)\n",
    "    return round(count / skeleton.size, 2)\n",
    "\n",
    "\n",
    "def getSkeletalGraph(skeleton):\n",
    "    graph = sknw.build_sknw(skeleton)\n",
    "    return graph\n",
    "\n",
    "\n",
    "def getEndJunction(graph):\n",
    "    l = [graph.degree[n] for n in graph.nodes()]\n",
    "    return np.array([l.count(1), l.count(3)])\n",
    "\n",
    "\n",
    "def getBranchLen(graph):\n",
    "    b_l = [graph.edges[e][\"weight\"] for e in graph.edges()]\n",
    "    return np.array([len(b_l), round(sum(b_l) / len(b_l), 2)])\n",
    "\n",
    "\n",
    "def number_of_cycles(graph):\n",
    "    cycles = 0\n",
    "    for cc in sorted(nx.connected_components(graph), key=len, reverse=True):\n",
    "        if len(cc) > 2:\n",
    "            sgraph = graph.subgraph(cc)\n",
    "            cycles += max((sgraph.number_of_edges() - sgraph.number_of_nodes()) + 1, 0)\n",
    "    return cycles\n",
    "\n",
    "\n",
    "def getSkeletalDescriptors(data):\n",
    "\n",
    "    [skeleton_a, distance_map_a] = skeletonize(data)\n",
    "    [skeleton_b, distance_map_b] = skeletonize(1 - data)\n",
    "\n",
    "    graph_a = getSkeletalGraph(skeleton_a)\n",
    "    graph_b = getSkeletalGraph(skeleton_b)\n",
    "\n",
    "    [e_a, j_a] = getEndJunction(graph_a)\n",
    "    [bn_a, bl_a] = getBranchLen(graph_a)\n",
    "    [e_b, j_b] = getEndJunction(graph_b)\n",
    "    [bn_b, bl_b] = getBranchLen(graph_b)\n",
    "\n",
    "    dist_on_skel_a = distance_map_a * skeleton_a\n",
    "    d_a = dist_on_skel_a[skeleton_a]\n",
    "    dist_on_skel_b = distance_map_b * skeleton_b\n",
    "    d_b = dist_on_skel_b[skeleton_b]\n",
    "\n",
    "    \n",
    "    return dict(\n",
    "        f_skeletal_pixels_a=f_skeletal_pixels(skeleton_a),\n",
    "        f_skeletal_pixels_b=f_skeletal_pixels(skeleton_b),\n",
    "        number_of_ends_a=e_a,\n",
    "        number_of_ends_b=e_b,\n",
    "        number_of_intersections_a=j_a,\n",
    "        number_of_intersections_b=j_b,\n",
    "        number_of_branches_a=bn_a,\n",
    "        number_of_branches_b=bn_b,\n",
    "        branch_length_a=bl_a,\n",
    "        branch_length_b=bl_b,\n",
    "        dist_to_interface_min_a=min(d_a),\n",
    "        dist_to_interface_min_b=min(d_b),\n",
    "        dist_to_interface_max_a=max(d_a),\n",
    "        dist_to_interface_max_b=max(d_b),\n",
    "        dist_to_interface_avg_a=round(sum(d_a) / len(d_a), 2),\n",
    "        dist_to_interface_avg_b=round(sum(d_b) / len(d_b), 2),\n",
    "        number_of_cycles_a = number_of_cycles(graph_a),\n",
    "        number_of_cycles_b = number_of_cycles(graph_b),\n",
    "    )\n"
   ]
  },
  {
   "cell_type": "code",
   "execution_count": 81,
   "id": "0907f2ee",
   "metadata": {},
   "outputs": [],
   "source": [
    "A = data[370, :, :]\n",
    "[skeleton_a, distance_map_a] = skeletonize(A)"
   ]
  },
  {
   "cell_type": "code",
   "execution_count": 82,
   "id": "ee419aeb",
   "metadata": {},
   "outputs": [],
   "source": [
    "g = getSkeletalGraph(skeleton_a)\n"
   ]
  },
  {
   "cell_type": "code",
   "execution_count": 83,
   "id": "59a313ec",
   "metadata": {},
   "outputs": [
    {
     "data": {
      "text/plain": [
       "{'f_skeletal_pixels_a': 0.04,\n",
       " 'f_skeletal_pixels_b': 0.02,\n",
       " 'number_of_ends_a': 21,\n",
       " 'number_of_ends_b': 52,\n",
       " 'number_of_intersections_a': 27,\n",
       " 'number_of_intersections_b': 6,\n",
       " 'number_of_branches_a': 54.0,\n",
       " 'number_of_branches_b': 36.0,\n",
       " 'branch_length_a': 32.84,\n",
       " 'branch_length_b': 27.7,\n",
       " 'dist_to_interface_min_a': 1.0,\n",
       " 'dist_to_interface_min_b': 1.0,\n",
       " 'dist_to_interface_max_a': 13.0,\n",
       " 'dist_to_interface_max_b': 13.0,\n",
       " 'dist_to_interface_avg_a': 7.42,\n",
       " 'dist_to_interface_avg_b': 7.43,\n",
       " 'number_of_cycles_a': 6,\n",
       " 'number_of_cycles_b': 0}"
      ]
     },
     "execution_count": 83,
     "metadata": {},
     "output_type": "execute_result"
    }
   ],
   "source": [
    "getSkeletalDescriptors(A)"
   ]
  },
  {
   "cell_type": "code",
   "execution_count": 27,
   "id": "b034af9f",
   "metadata": {},
   "outputs": [
    {
     "data": {
      "text/plain": [
       "26"
      ]
     },
     "execution_count": 27,
     "metadata": {},
     "output_type": "execute_result"
    }
   ],
   "source": [
    "g.number_of_nodes()"
   ]
  },
  {
   "cell_type": "code",
   "execution_count": 71,
   "id": "81a5b2f2",
   "metadata": {},
   "outputs": [
    {
     "name": "stdout",
     "output_type": "stream",
     "text": [
      "{0, 1, 2, 3, 4, 5, 6, 7, 8, 9, 10, 11, 13, 15, 16, 17, 18, 19, 20, 21, 22, 23, 24, 25, 26, 27, 28, 29, 30, 31, 32, 33, 34, 35, 36, 37, 38, 39, 40, 41, 42, 43, 44, 46, 47, 48, 49}\n",
      "\n",
      "\n",
      "\n",
      "\n",
      "\n",
      "\n",
      "\n",
      "\n",
      "\n",
      "6\n"
     ]
    }
   ],
   "source": [
    "cycles = 0\n",
    "for c in sorted(nx.connected_components(g), key=len, reverse=True):\n",
    "    if len(c) > 2:\n",
    "        print(c)\n",
    "        g2 = g.subgraph(c)\n",
    "        cycles += max((g2.number_of_edges() - g2.number_of_nodes()) + 1, 0)\n",
    "    print(\"\\n\\n\")\n",
    "print(cycles)"
   ]
  },
  {
   "cell_type": "code",
   "execution_count": 69,
   "id": "6773e5c5",
   "metadata": {},
   "outputs": [
    {
     "data": {
      "image/png": "[encoded data removed]",
      "text/plain": [
       "<Figure size 576x576 with 1 Axes>"
      ]
     },
     "metadata": {
      "needs_background": "light"
     },
     "output_type": "display_data"
    }
   ],
   "source": [
    "fig, ax = plt.subplots(1, 1, figsize=(8, 8), sharex=True, sharey=True)\n",
    "\n",
    "\n",
    "ax.imshow(A, cmap=plt.cm.gray)\n",
    "ax.axis('off')\n",
    "\n",
    "\n",
    "fig.tight_layout()"
   ]
  },
  {
   "cell_type": "code",
   "execution_count": 70,
   "id": "1fc919e4",
   "metadata": {},
   "outputs": [
    {
     "data": {
      "image/png": "[encoded data removed]",
      "text/plain": [
       "<Figure size 432x288 with 1 Axes>"
      ]
     },
     "metadata": {
      "needs_background": "light"
     },
     "output_type": "display_data"
    },
    {
     "data": {
      "text/plain": [
       "<Figure size 432x288 with 0 Axes>"
      ]
     },
     "metadata": {},
     "output_type": "display_data"
    }
   ],
   "source": [
    "for (s,e) in g.edges():\n",
    "    ps = g[s][e]['pts']\n",
    "    plt.plot(ps[:,1], ps[:,0], 'green')\n",
    "\n",
    "# Plot nodes of the network    \n",
    "nodes = g.nodes()\n",
    "ps = np.array([nodes[l]['o'] for l in g.nodes()])\n",
    "plt.plot(ps[:,1], ps[:,0], 'r.')\n",
    "\n",
    "plt.title('Graph')\n",
    "plt.show()\n",
    "plt.tight_layout()\n",
    "\n"
   ]
  },
  {
   "cell_type": "code",
   "execution_count": null,
   "id": "0080eb39",
   "metadata": {},
   "outputs": [],
   "source": []
  }
 ],
 "metadata": {
  "kernelspec": {
   "display_name": "Python 3 (ipykernel)",
   "language": "python",
   "name": "python3"
  },
  "language_info": {
   "codemirror_mode": {
    "name": "ipython",
    "version": 3
   },
   "file_extension": ".py",
   "mimetype": "text/x-python",
   "name": "python",
   "nbconvert_exporter": "python",
   "pygments_lexer": "ipython3",
   "version": "3.9.12"
  }
 },
 "nbformat": 4,
 "nbformat_minor": 5
}

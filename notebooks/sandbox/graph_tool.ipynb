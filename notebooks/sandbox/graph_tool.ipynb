{
 "cells": [
  {
   "cell_type": "markdown",
   "id": "247ac916",
   "metadata": {},
   "source": [
    "## Graph construction using networkx and graph-tool"
   ]
  },
  {
   "cell_type": "code",
   "execution_count": 1,
   "id": "14a349aa",
   "metadata": {},
   "outputs": [],
   "source": [
    "import networkx as nx\n",
    "import numpy as np\n",
    "from itertools import product\n",
    "import numpy.ma as ma\n",
    "from toolz.curried import pipe, curry\n",
    "from toolz.curried import map as fmap\n",
    "import zipfile\n",
    "import pandas as pd\n",
    "import time\n",
    "\n",
    "from graph_tool.all import *\n",
    "from graph_tool.topology import mark_subgraph\n",
    "from graph_tool.centrality import betweenness"
   ]
  },
  {
   "cell_type": "markdown",
   "id": "341ebee8",
   "metadata": {},
   "source": [
    "Import data files "
   ]
  },
  {
   "cell_type": "code",
   "execution_count": 2,
   "id": "de9bb251",
   "metadata": {},
   "outputs": [],
   "source": [
    "zip_stream = zipfile.ZipFile('../data/cahn-hilliard.zip', 'r')\n",
    "\n",
    "def read_data(file_name):\n",
    "    return np.array(\n",
    "        pd.read_csv(\n",
    "            zip_stream.open(file_name, 'r'),\n",
    "            delimiter=' ',\n",
    "            header=None               \n",
    "        ).swapaxes(0, 1)\n",
    "    )\n",
    "\n",
    "data = np.array(\n",
    "    list(\n",
    "        map(read_data, zip_stream.namelist()[1:6])\n",
    "    )\n",
    ")"
   ]
  },
  {
   "cell_type": "code",
   "execution_count": 3,
   "id": "75959e88",
   "metadata": {},
   "outputs": [],
   "source": [
    "cond = lambda x: (x[:, 1] != -1) & (x[:, 0] != -1)\n",
    "\n",
    "\n",
    "def merge_edges(neighbors, ids):\n",
    "    return pipe(\n",
    "        ids,\n",
    "        lambda x: np.reshape(x.flatten(), (-1, 1, 1)),\n",
    "        lambda x: np.repeat(x, neighbors.shape[1], axis=1),\n",
    "        lambda x: np.concatenate((x, neighbors), axis=-1).reshape(-1, 2),\n",
    "        lambda x: x[cond(x)],\n",
    "    )\n",
    "\n",
    "\n",
    "def index_vectors(nx, ny, nz):\n",
    "    index2D = ([1, 0, 0], [1, 1, 0], [0, 1, 0], [-1, 1, 0])\n",
    "    if ny == nz == 1:\n",
    "        return ([1, 0, 0],)\n",
    "    if nz == 1:\n",
    "        return index2D\n",
    "    else:\n",
    "        return index2D + tuple([x, y, 1] for x in (1, 0, -1) for y in (1, 0, -1))\n",
    "\n",
    "\n",
    "def make_ids_padded(ids):\n",
    "    nx, ny, nz = ids.shape\n",
    "    ids_padded = -np.ones((nx + 2, ny + 2, nz + 2), dtype=int)\n",
    "    ids_padded[1:-1, 1:-1, 1:-1] = ids\n",
    "    return ids_padded\n",
    "\n",
    "\n",
    "@curry\n",
    "def make_sub_ids(ids_padded, indices):\n",
    "    nx, ny, nz = ids_padded.shape\n",
    "    left, up, front = indices\n",
    "    return ids_padded[\n",
    "        1 + left : nx - 1 + left, 1 + up : ny - 1 + up, 1 + front : nz - 1 + front\n",
    "    ][..., None]\n",
    "\n",
    "\n",
    "def make_neighbors(ids):\n",
    "    nx, ny, nz = ids.shape\n",
    "    ids_padded = make_ids_padded(ids)\n",
    "\n",
    "    return pipe(\n",
    "        index_vectors(nx, ny, nz),\n",
    "        fmap(make_sub_ids(ids_padded)),\n",
    "        list,\n",
    "        lambda x: np.concatenate(x, axis=-1).reshape(nx * ny * nz, len(x), 1),\n",
    "    )\n",
    "\n",
    "\n",
    "def make_grid_edges(nx=1, ny=1, nz=1):\n",
    "    ids = np.arange(nx * ny * nz).reshape(nx, ny, nz)\n",
    "    return merge_edges(make_neighbors(ids), ids)\n",
    "\n",
    "\n",
    "def make_grid_graph(shape):\n",
    "    g = nx.Graph()\n",
    "    g.add_nodes_from(np.arange(np.prod(shape)))\n",
    "    g.add_edges_from(make_grid_edges(*shape))\n",
    "    return g\n",
    "\n",
    "def make_grid_graph_gt(shape):\n",
    "    g = Graph(directed = False)\n",
    "    g.add_vertex(np.prod(shape))\n",
    "    g.add_edge_list(make_grid_edges(*shape))\n",
    "    return g"
   ]
  },
  {
   "cell_type": "code",
   "execution_count": 4,
   "id": "0c13a810",
   "metadata": {},
   "outputs": [],
   "source": [
    "def makeImageGraph_gt(morph):\n",
    "\n",
    "    G = make_grid_graph_gt(morph.shape)\n",
    "    interfacev = G.add_vertex()\n",
    "\n",
    "    vertex_colors = morph.flatten()\n",
    "\n",
    "    phase = G.new_vertex_property(\"int\")\n",
    "    for i in range(len(vertex_colors)):\n",
    "        phase[i] = vertex_colors[i]\n",
    "        \n",
    "    phase[int(interfacev)] = -1\n",
    "    G.vertex_properties[\"color\"] = phase\n",
    "\n",
    "    ## Add interface vertex and change edge connections for interface vertices\n",
    "    G.set_fast_edge_removal(fast=True)\n",
    "    efilt = G.new_edge_property('int');\n",
    "    interface = []\n",
    "\n",
    "    for e in G.edges():\n",
    "        if phase[e.source()] != phase[e.target()]:\n",
    "            efilt[e] = 1\n",
    "            interface.append([int(e.source()), int(e.target())])\n",
    "        else :\n",
    "            efilt[e] = 0\n",
    "\n",
    "    graph_tool.stats.remove_labeled_edges(G, efilt)\n",
    "\n",
    "    interface = np.unique(np.array(interface)).flatten()\n",
    "    interface_edges = np.vstack((interface, (np.array([int(interfacev)] * interface.shape[0])))).T\n",
    "\n",
    "    G.add_edge_list(interface_edges)\n",
    "\n",
    "    return G\n",
    "def count_of_vertices_gt(G, phase):\n",
    "    phases = np.array(list(G.vertex_properties[\"color\"]))\n",
    "    return (phases == phase).sum()\n",
    "\n",
    "def makeConnectedComponents_gt(G, phase):\n",
    "    interfacev = find_vertex(G, G.vertex_properties[\"color\"], -1)\n",
    "    phases = np.array(list(G.vertex_properties[\"color\"]))\n",
    "    if phase == 0:\n",
    "        phases = 1 - phases\n",
    "    vfilt = phases\n",
    "    vfilt[int(interfacev[0])] = 0\n",
    "    sub = GraphView(G, vfilt)\n",
    "    return len(set(label_components(sub)[0]))\n",
    "\n",
    "def interfaceArea_gt(G):\n",
    "    interfacev = find_vertex(G, G.vertex_properties[\"color\"], -1)[0]\n",
    "    phases = np.array(list(G.vertex_properties[\"color\"]))\n",
    "    interface_1, interface_0 = 0, 0\n",
    "    for w in G.iter_out_neighbors(interfacev):\n",
    "        if phases[w] == 1:\n",
    "            interface_1 += 1\n",
    "        else: \n",
    "            interface_0 += 1\n",
    "    return interface_1 + interface_0, interface_0, interface_1\n",
    "\n",
    "def shortest_distance_gt(G):\n",
    "    interfacev = find_vertex(G, G.vertex_properties[\"color\"], -1)[0]\n",
    "    phases = np.array(list(G.vertex_properties[\"color\"]))\n",
    "\n",
    "    d = shortest_distance(G, interfacev)\n",
    "    dist_to_interface = sum(list(d))/max(1, (len(list(d)) - 1))\n",
    "\n",
    "    vfilt = phases\n",
    "    sub_1 = GraphView(G, vfilt)\n",
    "\n",
    "    d = shortest_distance(sub_1, interfacev)\n",
    "    dist_to_interface_1 = sum(list(d))/max(1, (len(list(d)) - 1))\n",
    "\n",
    "    phases = 1 - phases\n",
    "    vfilt_0 = phases\n",
    "    sub_0 = GraphView(G, vfilt_0)\n",
    "\n",
    "    d = shortest_distance(sub_0, interfacev)\n",
    "    dist_to_interface_0 = sum(list(d))/max(1, (len(list(d)) - 1))\n",
    "\n",
    "    return dist_to_interface, dist_to_interface_1, dist_to_interface_0\n",
    "\n",
    "\n",
    "def surface_area(G, data_shape, phase):\n",
    "    rows, cols = data_shape\n",
    "    boundary_left = np.array([i for i in range(0,rows*cols,cols)])\n",
    "    boundary_right = np.array([i for i in range(cols-1,rows*cols,cols)])\n",
    "    boundary_top = np.array([i for i in range(0, cols)])\n",
    "    boundary_bottom = np.array([i for i in range(rows*cols - cols, rows*cols)])\n",
    "    \n",
    "    phases = np.array(list(G.vertex_properties[\"color\"])[:-1])\n",
    "    if phase == 0: phases = 1 - phases\n",
    "        \n",
    "    return sum(phases[boundary_left]), sum(phases[boundary_right]), sum(phases[boundary_top]), sum(phases[boundary_bottom])\n",
    " \n",
    "def surface_shortest_distances(G, data_shape):\n",
    "    rows, cols = data.shape\n",
    "    boundary_top = ([i for i in range(0, data.shape[1])])\n",
    "    top = G.add_vertex()\n",
    "    boundary_bottom = [i for i in range(rows*cols - cols, rows*cols)]\n",
    "    bottom = G.add_vertex()\n",
    "    boundary_left = [i for i in range(0,rows*cols,cols)]\n",
    "    left = G.add_vertex()\n",
    "    boundary_right = [i for i in range(cols-1,rows*cols,cols)]\n",
    "    right = G.add_vertex()\n",
    "    \n",
    "    phases = (G.vertex_properties[\"color\"])\n",
    "    phases[top] = -2\n",
    "    phases[bottom] = -2\n",
    "    phases[left] = -2\n",
    "    phases[right] = -2\n",
    "    \n",
    "    G.vertex_properties[\"color\"] = phases\n",
    "    \n",
    "    boundary_edges = np.concatenate((np.array((list([int(top)] * len(boundary_top)), boundary_top)).T, \n",
    "                                     np.array((list([int(bottom)] * len(boundary_bottom)), boundary_bottom)).T,\n",
    "                                     np.array((list([int(left)] * len(boundary_left)), boundary_left)).T,\n",
    "                                     np.array((list([int(right)] * len(boundary_right)), boundary_right)).T), axis = 0)\n",
    "    \n",
    "    G.add_edge_list(boundary_edges)\n",
    "    phases = np.array(list(G.vertex_properties[\"color\"]))\n",
    "    \n",
    "    dt = np.array(list(shortest_distance(G, top)))\n",
    "    vfilt_top_0 = list(np.where(phases == 0)[0])\n",
    "    vfilt_top_1 = list(np.where(phases == 1)[0])\n",
    "    \n",
    "    db = np.array(list(shortest_distance(G, bottom)))\n",
    "    vfilt_bottom_0 = list(np.where(phases == 0)[0])\n",
    "    vfilt_bottom_1 = list(np.where(phases == 1)[0])\n",
    "    \n",
    "    dl = np.array(list(shortest_distance(G, left)))\n",
    "    vfilt_left_0 = list(np.where(phases == 0)[0])\n",
    "    vfilt_left_1 = list(np.where(phases == 1)[0])\n",
    "    \n",
    "    dr = np.array(list(shortest_distance(G, right)))\n",
    "    vfilt_right_0 = list(np.where(phases == 0)[0])\n",
    "    vfilt_right_1 = list(np.where(phases == 1)[0])\n",
    "    \n",
    "    return np.mean(dt[vfilt_top_0]), np.mean(dt[vfilt_top_1]),\\\n",
    "            np.mean(db[vfilt_bottom_0]), np.mean(db[vfilt_bottom_1]),\\\n",
    "            np.mean(dl[vfilt_left_0]), np.mean(dl[vfilt_left_1]), \\\n",
    "            np.mean(dr[vfilt_right_0]), np.mean(dr[vfilt_right_1])\n",
    "\n",
    "def surface_cc(G, phase):\n",
    "    return 0\n",
    "    \n",
    "\n",
    "def getGraspiDescriptors_gt(data):\n",
    "    g = makeImageGraph_gt(data)\n",
    "    [interface_area, phase_0_interface, phase_1_interface] = interfaceArea_gt(g)\n",
    "    [distance_to_interface, distance_to_interface_0, distance_to_interface_1] = shortest_distance_gt(g)\n",
    "    [left_0, right_0, top_0, bottom_0]  = surface_area(g, data.shape, 0)\n",
    "    [left_1, right_1, top_1, bottom_1]  = surface_area(g, data.shape, 1)\n",
    "    \n",
    "    [dist_top_0, dist_top_1, dist_bottom_0, dist_bottom_1, dist_left_0,\\\n",
    "     dist_left_1, dist_right_0, dist_right_1] = surface_shortest_distances(g, data.shape)\n",
    "    \n",
    "    return dict(\n",
    "        phase_0_count=count_of_vertices_gt(g, 0),\n",
    "        phase_1_count=count_of_vertices_gt(g, 1),\n",
    "        phase_0_cc=makeConnectedComponents_gt(g, 0),\n",
    "        phase_1_cc=makeConnectedComponents_gt(g, 1),\n",
    "        interfacial_area=interface_area,\n",
    "        phase_0_interface=phase_0_interface,\n",
    "        phase_1_interface=phase_1_interface,\n",
    "        distance_to_interface=distance_to_interface,\n",
    "        distance_to_interface_0=distance_to_interface_0,\n",
    "        distance_to_interface_1=distance_to_interface_1,\n",
    "        left_boundary_count_0 = left_0,\n",
    "        left_boundary_count_1 = left_1,\n",
    "        right_boundary_count_0 = right_0,\n",
    "        right_boundary_count_1 = right_1,\n",
    "        top_boundary_count_0 = top_0,\n",
    "        top_boundary_count_1 = top_1,\n",
    "        bottom_boundary_count_0 = bottom_0,\n",
    "        bottom_boundary_count_1 = bottom_1, \n",
    "        distance_to_top_0 = dist_top_0,\n",
    "        distance_to_top_1 = dist_top_1,\n",
    "        distance_to_bottom_0 = dist_bottom_0,\n",
    "        distance_to_bottom_1 = dist_bottom_1,\n",
    "        distance_to_left_0 = dist_left_0,\n",
    "        distance_to_left_1 = dist_left_1,\n",
    "        distance_to_right_0 = dist_right_0,\n",
    "        distance_to_right_1 = dist_right_1,\n",
    "    )\n"
   ]
  },
  {
   "cell_type": "code",
   "execution_count": 5,
   "id": "e69a9dae",
   "metadata": {},
   "outputs": [],
   "source": [
    "data = np.array([[0,0,0], [1,1,1], [0,0,0]])"
   ]
  },
  {
   "cell_type": "code",
   "execution_count": 6,
   "id": "02b7a703",
   "metadata": {},
   "outputs": [
    {
     "data": {
      "text/plain": [
       "{'phase_0_count': 6,\n",
       " 'phase_1_count': 3,\n",
       " 'phase_0_cc': 1,\n",
       " 'phase_1_cc': 3,\n",
       " 'interfacial_area': 9,\n",
       " 'phase_0_interface': 6,\n",
       " 'phase_1_interface': 3,\n",
       " 'distance_to_interface': 1.0,\n",
       " 'distance_to_interface_0': 1.0,\n",
       " 'distance_to_interface_1': 1.0,\n",
       " 'left_boundary_count_0': 2,\n",
       " 'left_boundary_count_1': 1,\n",
       " 'right_boundary_count_0': 2,\n",
       " 'right_boundary_count_1': 1,\n",
       " 'top_boundary_count_0': 3,\n",
       " 'top_boundary_count_1': 0,\n",
       " 'bottom_boundary_count_0': 3,\n",
       " 'bottom_boundary_count_1': 0,\n",
       " 'distance_to_top_0': 2.0,\n",
       " 'distance_to_top_1': 3.0,\n",
       " 'distance_to_bottom_0': 2.0,\n",
       " 'distance_to_bottom_1': 3.0,\n",
       " 'distance_to_left_0': 2.0,\n",
       " 'distance_to_left_1': 2.0,\n",
       " 'distance_to_right_0': 2.0,\n",
       " 'distance_to_right_1': 2.0}"
      ]
     },
     "execution_count": 6,
     "metadata": {},
     "output_type": "execute_result"
    }
   ],
   "source": [
    "getGraspiDescriptors_gt(data)"
   ]
  },
  {
   "cell_type": "code",
   "execution_count": 34,
   "id": "5c7f19ac",
   "metadata": {},
   "outputs": [],
   "source": [
    "g = makeImageGraph_gt(data)\n",
    "phase = 1"
   ]
  },
  {
   "cell_type": "code",
   "execution_count": 44,
   "id": "52aa749d",
   "metadata": {},
   "outputs": [],
   "source": [
    "interfacev = find_vertex(g, g.vertex_properties[\"color\"], -1)\n",
    "phases = np.array(list(g.vertex_properties[\"color\"]))\n",
    "if phase == 0:\n",
    "    phases = 1 - phases\n",
    "vfilt = phases\n",
    "vfilt[int(interfacev[0])] = 0\n",
    "sub = GraphView(g, vfilt)\n"
   ]
  },
  {
   "cell_type": "code",
   "execution_count": 54,
   "id": "2703ef0f",
   "metadata": {},
   "outputs": [],
   "source": [
    "rows, cols = data.shape"
   ]
  },
  {
   "cell_type": "code",
   "execution_count": 55,
   "id": "51098171",
   "metadata": {},
   "outputs": [
    {
     "data": {
      "text/plain": [
       "[0, 1, 2, 6, 7, 8]"
      ]
     },
     "execution_count": 55,
     "metadata": {},
     "output_type": "execute_result"
    }
   ],
   "source": [
    "[i for i in range(0, data.shape[1])] + [i for i in range(rows*cols - cols, rows*cols)]"
   ]
  },
  {
   "cell_type": "code",
   "execution_count": 48,
   "id": "a76d76b6",
   "metadata": {},
   "outputs": [
    {
     "data": {
      "text/plain": [
       "[array([0, 1, 2, 6, 7, 8, 9])]"
      ]
     },
     "execution_count": 48,
     "metadata": {},
     "output_type": "execute_result"
    }
   ],
   "source": [
    "list(np.where(phases == 0))"
   ]
  },
  {
   "cell_type": "code",
   "execution_count": 46,
   "id": "a677b3d0",
   "metadata": {},
   "outputs": [],
   "source": [
    "comp, hist = label_components(sub)"
   ]
  },
  {
   "cell_type": "code",
   "execution_count": 51,
   "id": "362c30b9",
   "metadata": {},
   "outputs": [],
   "source": [
    "c = np.array(comp.a)"
   ]
  },
  {
   "cell_type": "code",
   "execution_count": 52,
   "id": "5b9e01b9",
   "metadata": {},
   "outputs": [
    {
     "name": "stderr",
     "output_type": "stream",
     "text": [
      "/tmp/ipykernel_16705/216639355.py:1: FutureWarning: Using a non-tuple sequence for multidimensional indexing is deprecated; use `arr[tuple(seq)]` instead of `arr[seq]`. In the future this will be interpreted as an array index, `arr[np.array(seq)]`, which will result either in an error or a different result.\n",
      "  c[list(np.where(phases == 0))]\n"
     ]
    },
    {
     "data": {
      "text/plain": [
       "array([0, 0, 0, 0, 0, 0, 0], dtype=int32)"
      ]
     },
     "execution_count": 52,
     "metadata": {},
     "output_type": "execute_result"
    }
   ],
   "source": [
    "c[list(np.where(phases == 0))]"
   ]
  },
  {
   "cell_type": "code",
   "execution_count": 27,
   "id": "e4cec6d2",
   "metadata": {},
   "outputs": [
    {
     "data": {
      "text/plain": [
       "[<Vertex object with index '0' at 0x1615227c0>,\n",
       " <Vertex object with index '1' at 0x1615734c0>,\n",
       " <Vertex object with index '2' at 0x161573440>,\n",
       " <Vertex object with index '6' at 0x1615735c0>,\n",
       " <Vertex object with index '7' at 0x161573640>,\n",
       " <Vertex object with index '8' at 0x161573840>]"
      ]
     },
     "execution_count": 27,
     "metadata": {},
     "output_type": "execute_result"
    }
   ],
   "source": [
    "list(sub.vertices())"
   ]
  },
  {
   "cell_type": "code",
   "execution_count": null,
   "id": "84166118",
   "metadata": {},
   "outputs": [],
   "source": [
    "## Transport properties\n",
    "\n",
    "graph_tool.topology.all_circuits(g, unique=False)"
   ]
  },
  {
   "cell_type": "code",
   "execution_count": null,
   "id": "4a5a1070",
   "metadata": {},
   "outputs": [],
   "source": []
  },
  {
   "cell_type": "code",
   "execution_count": 39,
   "id": "f98199d9",
   "metadata": {},
   "outputs": [],
   "source": []
  },
  {
   "cell_type": "code",
   "execution_count": null,
   "id": "5bb57413",
   "metadata": {},
   "outputs": [],
   "source": []
  },
  {
   "cell_type": "code",
   "execution_count": 6,
   "id": "feb2780c",
   "metadata": {},
   "outputs": [],
   "source": [
    "def makeImageGraph(morph):\n",
    "    \n",
    "    G = make_grid_graph(morph.shape)\n",
    "    vertex_colors = morph.flatten()\n",
    "    mapping = {(i): vertex_colors[i] for i in range(len(vertex_colors))}\n",
    "    nx.set_node_attributes(G, mapping, name=\"color\")\n",
    "    return G\n",
    " \n",
    "\n",
    "def count_of_vertices(G, phase):\n",
    "    \n",
    "    phases = nx.get_node_attributes(G, \"color\")\n",
    "    phase_list = list(phases.values())\n",
    "    return phase_list.count(phase)\n",
    "\n",
    "\n",
    "def node_phaseA(n, G):\n",
    "    nodes = G.nodes\n",
    "    return nodes[n][\"color\"] == 0\n",
    "\n",
    "\n",
    "def node_phaseB(n, G):\n",
    "    nodes = G.nodes\n",
    "    return nodes[n][\"color\"] == 1\n",
    "\n",
    "\n",
    "def makeInterfaceEdges(G):\n",
    "    \n",
    "    interface = [\n",
    "        (n, u)\n",
    "        for n, u in G.edges()\n",
    "        if (node_phaseA(n, G) and node_phaseB(u, G))\n",
    "        or (node_phaseB(n, G) and node_phaseA(u, G))\n",
    "    ]\n",
    "    G.remove_edges_from(interface)\n",
    "    G.add_node(-1, color=\"green\")\n",
    "    interface = np.unique(np.array(interface))\n",
    "    interface_edges = [(x, -1) for x in interface]\n",
    "    G.add_edges_from(interface_edges)\n",
    "    return G\n",
    "\n",
    "\n",
    "def makeConnectedComponents(G, phase):\n",
    "    \n",
    "    nodes = (node for node, data in G.nodes(data=True) if data.get(\"color\") == phase)\n",
    "    subgraph = G.subgraph(nodes)\n",
    "    subgraph.nodes\n",
    "    return nx.number_connected_components(subgraph)\n",
    "\n",
    "\n",
    "def interfaceArea(G):\n",
    "    \n",
    "    nodes_0 = [\n",
    "        neighbor for neighbor in G.neighbors(-1) if G.nodes[neighbor][\"color\"] == 0\n",
    "    ]\n",
    "    nodes_1 = [\n",
    "        neighbor for neighbor in G.neighbors(-1) if G.nodes[neighbor][\"color\"] == 1\n",
    "    ]\n",
    "    return G.degree[-1], len(nodes_0), len(nodes_1)\n",
    "\n",
    "\n",
    "def shortest_distances_all(G):\n",
    "    \n",
    "    path = nx.single_source_shortest_path(G, -1)\n",
    "    del path[-1]\n",
    "    path_length = [len(p) for p in path.values()]\n",
    "    # print(path_length)\n",
    "    return sum(path_length) / len(path_length)\n",
    "\n",
    "\n",
    "def shortest_distances_phase(G, phase):\n",
    "    \n",
    "    source = [node for node, data in G.nodes(data=True) if data.get(\"color\") == phase]\n",
    "    path = [\n",
    "        nx.shortest_path(G, s, target=-1, weight=None, method=\"dijkstra\")\n",
    "        for s in source\n",
    "    ]\n",
    "    path_length = [len(p) for p in path]\n",
    "    return sum(path_length) / len(path_length)\n",
    "    \n",
    "def getGraspiDescriptors(data):\n",
    "\n",
    "\n",
    "    g = makeImageGraph(data)\n",
    "    g = makeInterfaceEdges(g)\n",
    "    [interface_area, phase_0_interface, phase_1_interface] = interfaceArea(g)\n",
    "\n",
    "    return dict(\n",
    "        phase_0_count=count_of_vertices(g, 0),\n",
    "        phase_1_count=count_of_vertices(g, 1),\n",
    "        phase_0_cc=makeConnectedComponents(g, 0),\n",
    "        phase_1_cc=makeConnectedComponents(g, 1),\n",
    "        interfacial_area=interface_area,\n",
    "        phase_0_interface=phase_0_interface,\n",
    "        phase_1_interface=phase_1_interface,\n",
    "        distance_to_interface=shortest_distances_all(g),\n",
    "        distance_to_interface_0=shortest_distances_phase(g, 0),\n",
    "        distance_to_interface_1=shortest_distances_phase(g, 1),\n",
    "    )"
   ]
  },
  {
   "cell_type": "code",
   "execution_count": 7,
   "id": "e313b241",
   "metadata": {},
   "outputs": [
    {
     "data": {
      "text/plain": [
       "(3, 3)"
      ]
     },
     "execution_count": 7,
     "metadata": {},
     "output_type": "execute_result"
    }
   ],
   "source": [
    "data.shape"
   ]
  },
  {
   "cell_type": "code",
   "execution_count": 12,
   "id": "8bd19017",
   "metadata": {},
   "outputs": [
    {
     "name": "stdout",
     "output_type": "stream",
     "text": [
      "--- 0.012317895889282227 seconds ---\n"
     ]
    }
   ],
   "source": [
    "start_time = time.time()\n",
    "pipe(\n",
    "    data,\n",
    "    fmap(getGraspiDescriptors_gt),\n",
    "    list,\n",
    "    lambda x: pd.DataFrame(x, columns=sorted(x[0].keys())),\n",
    ")\n",
    "print(\"--- %s seconds ---\" % (time.time() - start_time))\n"
   ]
  },
  {
   "cell_type": "code",
   "execution_count": 9,
   "id": "c949b1f7",
   "metadata": {},
   "outputs": [
    {
     "name": "stdout",
     "output_type": "stream",
     "text": [
      "--- 208.15930485725403 seconds ---\n"
     ]
    }
   ],
   "source": [
    "start_time = time.time()\n",
    "pipe(\n",
    "    data,\n",
    "    fmap(getGraspiDescriptors),\n",
    "    list,\n",
    "    lambda x: pd.DataFrame(x, columns=sorted(x[0].keys())),\n",
    ")\n",
    "print(\"--- %s seconds ---\" % (time.time() - start_time))"
   ]
  },
  {
   "cell_type": "code",
   "execution_count": 7,
   "id": "7a6686bd",
   "metadata": {},
   "outputs": [],
   "source": [
    "phase = G.new_vertex_property(\"int\")\n",
    "for i in range(len(vertex_colors)):\n",
    "    phase[i] = vertex_colors[i]\n",
    "phase[int(interfacev)] = -1\n",
    "G.vertex_properties[\"color\"] = phase\n"
   ]
  },
  {
   "cell_type": "code",
   "execution_count": 8,
   "id": "fa16c9ce",
   "metadata": {},
   "outputs": [],
   "source": [
    "## Add interface vertex and change edge connections for interface vertices\n",
    "phases = G.vertex_properties[\"color\"]\n",
    "efilt = G.new_edge_property('int');\n",
    "interface = []\n",
    "for e in G.edges():\n",
    "    if phase[e.source()] != phase[e.target()]:\n",
    "        efilt[e] = 1\n",
    "        interface.append([int(e.source()), int(e.target())])\n",
    "    else :\n",
    "        efilt[e] = 0\n",
    "graph_tool.stats.remove_labeled_edges(G, efilt)"
   ]
  },
  {
   "cell_type": "code",
   "execution_count": 9,
   "id": "bab398c3",
   "metadata": {},
   "outputs": [],
   "source": [
    "interface = np.unique(np.array(interface)).flatten()\n",
    "interface_edges = np.vstack((interface, (np.array([int(interfacev)] * interface.shape[0])))).T\n",
    "\n",
    "G.add_edge_list(interface_edges)"
   ]
  },
  {
   "cell_type": "code",
   "execution_count": 10,
   "id": "3ba0dbd6",
   "metadata": {},
   "outputs": [
    {
     "data": {
      "text/plain": [
       "6"
      ]
     },
     "execution_count": 10,
     "metadata": {},
     "output_type": "execute_result"
    }
   ],
   "source": [
    "# Count number of vertices\n",
    "phase = 0\n",
    "phases = np.array(list(G.vertex_properties[\"color\"]))\n",
    "(phases == phase).sum()"
   ]
  },
  {
   "cell_type": "code",
   "execution_count": 11,
   "id": "b9edc04d",
   "metadata": {},
   "outputs": [
    {
     "data": {
      "text/plain": [
       "1"
      ]
     },
     "execution_count": 11,
     "metadata": {},
     "output_type": "execute_result"
    }
   ],
   "source": [
    "# Count of connected components for 2 phases\n",
    "phases = np.array(list(G.vertex_properties[\"color\"]))\n",
    "#phases = 1 - phases  # count cc for second phase for an input with 2 phases\n",
    "vfilt = phases\n",
    "vfilt[int(interfacev)] = 0\n",
    "sub = GraphView(G, vfilt)\n",
    "\n",
    "cc = len(set(label_components(sub)[0]))\n",
    "cc"
   ]
  },
  {
   "cell_type": "code",
   "execution_count": 12,
   "id": "12a8b2d1",
   "metadata": {},
   "outputs": [
    {
     "data": {
      "text/plain": [
       "array([0, 0, 0, 1, 1, 1, 0, 0, 0, 0])"
      ]
     },
     "execution_count": 12,
     "metadata": {},
     "output_type": "execute_result"
    }
   ],
   "source": [
    "phases"
   ]
  },
  {
   "cell_type": "code",
   "execution_count": 14,
   "id": "f3c94e89",
   "metadata": {},
   "outputs": [],
   "source": [
    "# Interfacial area\n",
    "def interfaceArea(G):\n",
    "    interfacev = find_vertex(G, G.vertex_properties[\"color\"], -1)\n",
    "    phases = np.array(list(G.vertex_properties[\"color\"]))\n",
    "    for w in g.iter_out_neighbors(interfacev):\n",
    "        if phases[w] == 1:\n",
    "            interface_1 += 1\n",
    "        else: \n",
    "            interface_0 += 1\n",
    "    return interface_1 + interface_0, iterface_0, interface_1\n",
    "        "
   ]
  },
  {
   "cell_type": "code",
   "execution_count": 15,
   "id": "11219083",
   "metadata": {},
   "outputs": [
    {
     "data": {
      "text/plain": [
       "1.0"
      ]
     },
     "execution_count": 15,
     "metadata": {},
     "output_type": "execute_result"
    }
   ],
   "source": [
    "# Shortest distances\n",
    "\n",
    "d = shortest_distance(G, interfacev)\n",
    "dist_to_interface = sum(list(d))/(len(list(d)) - 1)\n",
    "dist_to_interface"
   ]
  },
  {
   "cell_type": "code",
   "execution_count": 16,
   "id": "c26a2c4a",
   "metadata": {},
   "outputs": [],
   "source": [
    "# Shortest distance to interface from a phase\n",
    "\n",
    "phases = np.array(list(G.vertex_properties[\"color\"]))\n",
    "vfilt = phases\n",
    "sub_1 = GraphView(G, vfilt)\n",
    "\n",
    "d = shortest_distance(sub_1, interfacev)\n",
    "dist_to_interface_1 = sum(list(d))/(len(list(d)) - 1)\n",
    "\n",
    "phases = 1 - phases\n",
    "vfilt_0 = phases\n",
    "#vfilt_0[int(interfacev)] = 0\n",
    "sub_0 = GraphView(G, vfilt_0)\n",
    "\n",
    "d = shortest_distance(sub_0, interfacev)\n",
    "dist_to_interface_0 = sum(list(d))/(len(list(d)) - 1)"
   ]
  },
  {
   "cell_type": "code",
   "execution_count": 20,
   "id": "b72be290",
   "metadata": {},
   "outputs": [
    {
     "data": {
      "text/plain": [
       "array([ 0,  0,  0,  1,  1,  1,  0,  0,  0, -1])"
      ]
     },
     "execution_count": 20,
     "metadata": {},
     "output_type": "execute_result"
    }
   ],
   "source": []
  },
  {
   "cell_type": "code",
   "execution_count": 58,
   "id": "7eaa69d9",
   "metadata": {},
   "outputs": [],
   "source": []
  },
  {
   "cell_type": "code",
   "execution_count": 20,
   "id": "c3f13e84",
   "metadata": {},
   "outputs": [],
   "source": [
    "g = complete_graph(30)\n",
    "sub = complete_graph(10)"
   ]
  },
  {
   "cell_type": "code",
   "execution_count": 21,
   "id": "7eb2c074",
   "metadata": {},
   "outputs": [
    {
     "data": {
      "text/plain": [
       "<Graph object, undirected, with 10 vertices and 45 edges, at 0x1622c6280>"
      ]
     },
     "execution_count": 21,
     "metadata": {},
     "output_type": "execute_result"
    }
   ],
   "source": []
  },
  {
   "cell_type": "code",
   "execution_count": null,
   "id": "0273d38a",
   "metadata": {},
   "outputs": [],
   "source": []
  }
 ],
 "metadata": {
  "kernelspec": {
   "display_name": "Python 3 (ipykernel)",
   "language": "python",
   "name": "python3"
  },
  "language_info": {
   "codemirror_mode": {
    "name": "ipython",
    "version": 3
   },
   "file_extension": ".py",
   "mimetype": "text/x-python",
   "name": "python",
   "nbconvert_exporter": "python",
   "pygments_lexer": "ipython3",
   "version": "3.9.12"
  }
 },
 "nbformat": 4,
 "nbformat_minor": 5
}

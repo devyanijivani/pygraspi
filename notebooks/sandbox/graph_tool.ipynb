{
 "cells": [
  {
   "cell_type": "markdown",
   "id": "247ac916",
   "metadata": {},
   "source": [
    "## Graph construction using networkx and graph-tool"
   ]
  },
  {
   "cell_type": "code",
   "execution_count": 1,
   "id": "14a349aa",
   "metadata": {},
   "outputs": [],
   "source": [
    "import networkx as nx\n",
    "import numpy as np\n",
    "from itertools import product\n",
    "import numpy.ma as ma\n",
    "from toolz.curried import pipe, curry\n",
    "from toolz.curried import map as fmap\n",
    "import zipfile\n",
    "import pandas\n",
    "import time\n",
    "\n",
    "from graph_tool.all import *"
   ]
  },
  {
   "cell_type": "markdown",
   "id": "341ebee8",
   "metadata": {},
   "source": [
    "Import data files "
   ]
  },
  {
   "cell_type": "code",
   "execution_count": 4,
   "id": "de9bb251",
   "metadata": {},
   "outputs": [],
   "source": [
    "zip_stream = zipfile.ZipFile('../data/cahn-hilliard.zip', 'r')\n",
    "\n",
    "def read_data(file_name):\n",
    "    return np.array(\n",
    "        pandas.read_csv(\n",
    "            zip_stream.open(file_name, 'r'),\n",
    "            delimiter=' ',\n",
    "            header=None               \n",
    "        ).swapaxes(0, 1)\n",
    "    )\n",
    "\n",
    "data = np.array(\n",
    "    list(\n",
    "        map(read_data, zip_stream.namelist()[1:6])\n",
    "    )\n",
    ")"
   ]
  },
  {
   "cell_type": "code",
   "execution_count": 5,
   "id": "75959e88",
   "metadata": {},
   "outputs": [],
   "source": [
    "cond = lambda x: (x[:, 1] != -1) & (x[:, 0] != -1)\n",
    "\n",
    "\n",
    "def merge_edges(neighbors, ids):\n",
    "    return pipe(\n",
    "        ids,\n",
    "        lambda x: np.reshape(x.flatten(), (-1, 1, 1)),\n",
    "        lambda x: np.repeat(x, neighbors.shape[1], axis=1),\n",
    "        lambda x: np.concatenate((x, neighbors), axis=-1).reshape(-1, 2),\n",
    "        lambda x: x[cond(x)],\n",
    "    )\n",
    "\n",
    "\n",
    "def index_vectors(nx, ny, nz):\n",
    "    index2D = ([1, 0, 0], [1, 1, 0], [0, 1, 0], [-1, 1, 0])\n",
    "    if ny == nz == 1:\n",
    "        return ([1, 0, 0],)\n",
    "    if nz == 1:\n",
    "        return index2D\n",
    "    else:\n",
    "        return index2D + tuple([x, y, 1] for x in (1, 0, -1) for y in (1, 0, -1))\n",
    "\n",
    "\n",
    "def make_ids_padded(ids):\n",
    "    nx, ny, nz = ids.shape\n",
    "    ids_padded = -np.ones((nx + 2, ny + 2, nz + 2), dtype=int)\n",
    "    ids_padded[1:-1, 1:-1, 1:-1] = ids\n",
    "    return ids_padded\n",
    "\n",
    "\n",
    "@curry\n",
    "def make_sub_ids(ids_padded, indices):\n",
    "    nx, ny, nz = ids_padded.shape\n",
    "    left, up, front = indices\n",
    "    return ids_padded[\n",
    "        1 + left : nx - 1 + left, 1 + up : ny - 1 + up, 1 + front : nz - 1 + front\n",
    "    ][..., None]\n",
    "\n",
    "\n",
    "def make_neighbors(ids):\n",
    "    nx, ny, nz = ids.shape\n",
    "    ids_padded = make_ids_padded(ids)\n",
    "\n",
    "    return pipe(\n",
    "        index_vectors(nx, ny, nz),\n",
    "        fmap(make_sub_ids(ids_padded)),\n",
    "        list,\n",
    "        lambda x: np.concatenate(x, axis=-1).reshape(nx * ny * nz, len(x), 1),\n",
    "    )\n",
    "\n",
    "\n",
    "def make_grid_edges(nx=1, ny=1, nz=1):\n",
    "    ids = np.arange(nx * ny * nz).reshape(nx, ny, nz)\n",
    "    return merge_edges(make_neighbors(ids), ids)\n",
    "\n",
    "\n",
    "def make_grid_graph(shape):\n",
    "    g = nx.Graph()\n",
    "    g.add_nodes_from(np.arange(np.prod(shape)))\n",
    "    g.add_edges_from(make_grid_edges(*shape))\n",
    "    return g\n",
    "\n",
    "def make_grid_graph_gt(shape):\n",
    "    g = Graph(directed = False)\n",
    "    g.add_vertex(np.prod(shape))\n",
    "    g.add_edge_list(make_grid_edges(*shape))\n",
    "    return g\n"
   ]
  },
  {
   "cell_type": "code",
   "execution_count": 6,
   "id": "cf812df8",
   "metadata": {},
   "outputs": [
    {
     "name": "stdout",
     "output_type": "stream",
     "text": [
      "--- 0.489804744720459 seconds ---\n"
     ]
    }
   ],
   "source": [
    "start_time = time.time()\n",
    "g = make_grid_graph_gt(data.shape)\n",
    "print(\"--- %s seconds ---\" % (time.time() - start_time))"
   ]
  },
  {
   "cell_type": "code",
   "execution_count": 7,
   "id": "0b7d0726",
   "metadata": {},
   "outputs": [
    {
     "name": "stdout",
     "output_type": "stream",
     "text": [
      "--- 5.758615016937256 seconds ---\n"
     ]
    }
   ],
   "source": [
    "start_time = time.time()\n",
    "g = make_grid_graph(data.shape)\n",
    "print(\"--- %s seconds ---\" % (time.time() - start_time))"
   ]
  },
  {
   "cell_type": "code",
   "execution_count": 9,
   "id": "7a6686bd",
   "metadata": {},
   "outputs": [
    {
     "data": {
      "text/plain": [
       "<Graph object, undirected, with 4 vertices and 6 edges, at 0x1666e6350>"
      ]
     },
     "execution_count": 9,
     "metadata": {},
     "output_type": "execute_result"
    }
   ],
   "source": [
    "make_grid_graph_gt([2, 2])"
   ]
  },
  {
   "cell_type": "code",
   "execution_count": 9,
   "id": "7eaa69d9",
   "metadata": {},
   "outputs": [],
   "source": [
    "def makeImageGraph(morph):\n",
    "\n",
    "    G = make_grid_graph(morph.shape)\n",
    "    vertex_colors = morph.flatten()\n",
    "    mapping = {(i): vertex_colors[i] for i in range(len(vertex_colors))}\n",
    "    nx.set_node_attributes(G, mapping, name=\"color\")\n",
    "    return G\n",
    "\n",
    "\n",
    "def count_of_vertices(G, phase):\n",
    "    \n",
    "    phases = nx.get_node_attributes(G, \"color\")\n",
    "    phase_list = list(phases.values())\n",
    "    return phase_list.count(phase)\n",
    "\n",
    "\n",
    "def node_phaseA(n, G):\n",
    "    nodes = G.nodes\n",
    "    return nodes[n][\"color\"] == 0\n",
    "\n",
    "\n",
    "def node_phaseB(n, G):\n",
    "    nodes = G.nodes\n",
    "    return nodes[n][\"color\"] == 1\n",
    "\n",
    "\n",
    "def makeInterfaceEdges(G):\n",
    "   \n",
    "    interface = [\n",
    "        (n, u)\n",
    "        for n, u in G.edges()\n",
    "        if (node_phaseA(n, G) and node_phaseB(u, G))\n",
    "        or (node_phaseB(n, G) and node_phaseA(u, G))\n",
    "    ]\n",
    "    G.remove_edges_from(interface)\n",
    "    G.add_node(-1, color=\"green\")\n",
    "    interface = np.unique(np.array(interface))\n",
    "    interface_edges = [(x, -1) for x in interface]\n",
    "    G.add_edges_from(interface_edges)\n",
    "    return G\n",
    "\n",
    "\n",
    "def makeConnectedComponents(G, phase):\n",
    "\n",
    "    nodes = (node for node, data in G.nodes(data=True) if data.get(\"color\") == phase)\n",
    "    subgraph = G.subgraph(nodes)\n",
    "    subgraph.nodes\n",
    "    return nx.number_connected_components(subgraph)\n",
    "\n",
    "\n",
    "def interfaceArea(G):\n",
    "    \n",
    "    nodes_0 = [\n",
    "        neighbor for neighbor in G.neighbors(-1) if G.nodes[neighbor][\"color\"] == 0\n",
    "    ]\n",
    "    nodes_1 = [\n",
    "        neighbor for neighbor in G.neighbors(-1) if G.nodes[neighbor][\"color\"] == 1\n",
    "    ]\n",
    "    return G.degree[-1], len(nodes_0), len(nodes_1)\n",
    "\n",
    "\n",
    "def shortest_distances_all(G):\n",
    "    \n",
    "    path = nx.single_source_shortest_path(G, -1)\n",
    "    del path[-1]\n",
    "    path_length = [len(p) for p in path.values()]\n",
    "    # print(path_length)\n",
    "    return sum(path_length) / len(path_length)\n",
    "\n",
    "\n",
    "def shortest_distances_phase(G, phase):\n",
    "   \n",
    "    source = [node for node, data in G.nodes(data=True) if data.get(\"color\") == phase]\n",
    "    path = [\n",
    "        nx.shortest_path(G, s, target=-1, weight=None, method=\"dijkstra\")\n",
    "        for s in source\n",
    "    ]\n",
    "    path_length = [len(p) for p in path]\n",
    "    return sum(path_length) / len(path_length)\n",
    "\n",
    "\n",
    "def shortest_dist_boundary(G, phase):\n",
    "    path = nx.single_source_shortest_path(g, -1)\n",
    "    path_length = [len(p) for p in path.values()]\n",
    "    return sum(path_length) / len(path_length)\n",
    "\n",
    "\n",
    "def tortuosity(G, phase):\n",
    "    return None\n",
    "\n",
    "\n",
    "def interface_boundary(G, phase):\n",
    "    return None\n",
    "\n",
    "\n",
    "def getGraspiDescriptors(data):\n",
    "   \n",
    "    \n",
    "\n",
    "    g = makeImageGraph(data)\n",
    "    \n",
    "   # g = makeInterfaceEdges(g)\n",
    "   # [interface_area, phase_0_interface, phase_1_interface] = interfaceArea(g)\n",
    "\n",
    "#    return dict(\n",
    "#        phase_0_count=count_of_vertices(g, 0),\n",
    "#        phase_1_count=count_of_vertices(g, 1),\n",
    "#        phase_0_cc=makeConnectedComponents(g, 0),\n",
    "#        phase_1_cc=makeConnectedComponents(g, 1),\n",
    "#        interfacial_area=interface_area,\n",
    "#        phase_0_interface=phase_0_interface,\n",
    "#        phase_1_interface=phase_1_interface,\n",
    "#        distance_to_interface=shortest_distances_all(g),\n",
    "#        distance_to_interface_0=shortest_distances_phase(g, 0),\n",
    "#        distance_to_interface_1=shortest_distances_phase(g, 1),\n",
    "#    )\n"
   ]
  },
  {
   "cell_type": "code",
   "execution_count": 15,
   "id": "c3f13e84",
   "metadata": {},
   "outputs": [
    {
     "name": "stdout",
     "output_type": "stream",
     "text": [
      "--- 0.01800990104675293 seconds ---\n"
     ]
    }
   ],
   "source": []
  },
  {
   "cell_type": "code",
   "execution_count": 4,
   "id": "0528eb91",
   "metadata": {},
   "outputs": [],
   "source": []
  },
  {
   "cell_type": "code",
   "execution_count": 5,
   "id": "14cea529",
   "metadata": {},
   "outputs": [
    {
     "data": {
      "text/plain": [
       "array([[[1, 1, 1, ..., 1, 1, 1],\n",
       "        [1, 1, 1, ..., 1, 1, 1],\n",
       "        [1, 1, 1, ..., 1, 1, 1],\n",
       "        ...,\n",
       "        [0, 0, 0, ..., 1, 1, 1],\n",
       "        [0, 0, 0, ..., 1, 1, 1],\n",
       "        [0, 0, 0, ..., 1, 1, 1]],\n",
       "\n",
       "       [[1, 1, 1, ..., 1, 1, 1],\n",
       "        [1, 1, 1, ..., 1, 1, 1],\n",
       "        [1, 1, 1, ..., 1, 1, 1],\n",
       "        ...,\n",
       "        [1, 1, 1, ..., 1, 1, 1],\n",
       "        [1, 1, 1, ..., 1, 1, 1],\n",
       "        [1, 1, 1, ..., 1, 1, 1]],\n",
       "\n",
       "       [[0, 0, 0, ..., 1, 1, 1],\n",
       "        [0, 0, 0, ..., 1, 1, 1],\n",
       "        [0, 0, 0, ..., 1, 1, 1],\n",
       "        ...,\n",
       "        [1, 1, 1, ..., 1, 1, 1],\n",
       "        [1, 1, 1, ..., 1, 1, 1],\n",
       "        [1, 1, 1, ..., 1, 1, 1]],\n",
       "\n",
       "       [[0, 0, 0, ..., 1, 1, 1],\n",
       "        [0, 0, 0, ..., 1, 1, 1],\n",
       "        [0, 0, 0, ..., 1, 1, 1],\n",
       "        ...,\n",
       "        [1, 1, 1, ..., 1, 1, 1],\n",
       "        [1, 1, 1, ..., 1, 1, 1],\n",
       "        [1, 1, 1, ..., 1, 1, 1]],\n",
       "\n",
       "       [[0, 0, 0, ..., 1, 1, 1],\n",
       "        [0, 0, 0, ..., 1, 1, 1],\n",
       "        [0, 0, 0, ..., 1, 1, 1],\n",
       "        ...,\n",
       "        [1, 1, 1, ..., 1, 1, 1],\n",
       "        [1, 1, 1, ..., 1, 1, 1],\n",
       "        [1, 1, 1, ..., 1, 1, 1]]])"
      ]
     },
     "execution_count": 5,
     "metadata": {},
     "output_type": "execute_result"
    }
   ],
   "source": []
  },
  {
   "cell_type": "code",
   "execution_count": null,
   "id": "9de94e58",
   "metadata": {},
   "outputs": [],
   "source": []
  }
 ],
 "metadata": {
  "kernelspec": {
   "display_name": "Python 3 (ipykernel)",
   "language": "python",
   "name": "python3"
  },
  "language_info": {
   "codemirror_mode": {
    "name": "ipython",
    "version": 3
   },
   "file_extension": ".py",
   "mimetype": "text/x-python",
   "name": "python",
   "nbconvert_exporter": "python",
   "pygments_lexer": "ipython3",
   "version": "3.10.4"
  }
 },
 "nbformat": 4,
 "nbformat_minor": 5
}

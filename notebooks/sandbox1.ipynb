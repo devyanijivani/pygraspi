{
 "cells": [
  {
   "cell_type": "code",
   "execution_count": 38,
   "id": "registered-neighborhood",
   "metadata": {},
   "outputs": [],
   "source": [
    "import networkx as nx\n",
    "import numpy as np"
   ]
  },
  {
   "cell_type": "code",
   "execution_count": 137,
   "id": "b7b2fed7",
   "metadata": {},
   "outputs": [
    {
     "name": "stdout",
     "output_type": "stream",
     "text": [
      "[(0, 0, 0), (0, 0, 1), (0, 1, 0), (0, 1, 1), (1, 0, 0), (1, 0, 1), (1, 1, 0), (1, 1, 1)]\n",
      "[(1, 1, 1)]\n",
      "[(1, 1, 0), (1, 1, 1)]\n",
      "[(1, 1, 0)]\n",
      "[(1, 0, 1), (1, 1, 1)]\n",
      "[(1, 0, 0), (1, 0, 1), (1, 1, 0), (1, 1, 1)]\n",
      "[(1, 0, 0), (1, 1, 0)]\n",
      "[(1, 0, 1)]\n",
      "[(1, 0, 0), (1, 0, 1)]\n",
      "[(1, 0, 0)]\n",
      "[(0, 1, 1), (1, 1, 1)]\n",
      "[(0, 1, 0), (0, 1, 1), (1, 1, 0), (1, 1, 1)]\n",
      "[(0, 1, 0), (1, 1, 0)]\n",
      "[(0, 0, 1), (0, 1, 1), (1, 0, 1), (1, 1, 1)]\n",
      "[(0, 0, 0), (0, 0, 1), (0, 1, 0), (0, 1, 1), (1, 0, 0), (1, 0, 1), (1, 1, 0), (1, 1, 1)]\n",
      "[(0, 0, 0), (0, 1, 0), (1, 0, 0), (1, 1, 0)]\n",
      "[(0, 0, 1), (1, 0, 1)]\n",
      "[(0, 0, 0), (0, 0, 1), (1, 0, 0), (1, 0, 1)]\n",
      "[(0, 0, 0), (1, 0, 0)]\n",
      "[(0, 1, 1)]\n",
      "[(0, 1, 0), (0, 1, 1)]\n",
      "[(0, 1, 0)]\n",
      "[(0, 0, 1), (0, 1, 1)]\n",
      "[(0, 0, 0), (0, 0, 1), (0, 1, 0), (0, 1, 1)]\n",
      "[(0, 0, 0), (0, 1, 0)]\n",
      "[(0, 0, 1)]\n",
      "[(0, 0, 0), (0, 0, 1)]\n",
      "[(0, 0, 0)]\n"
     ]
    }
   ],
   "source": [
    "shape = (2, 2, 2)\n",
    "\n",
    "gx, gy, gz = np.mgrid[0:shape[0], 0:shape[1], 0:shape[2]]\n",
    "\n",
    "\n",
    "\n",
    "nodes = list(zip(gx.flatten(), gy.flatten(), gz.flatten()))\n",
    "print(nodes)\n",
    "edges = []\n",
    "slices = (slice(1, None), slice(0, None), slice(0, -1))\n",
    "for n_x in slices:\n",
    "    for n_y in slices:\n",
    "        for n_z in slices:\n",
    "            slice_ = (n_x, n_y, n_z)\n",
    "            my_nodes = list(zip(gx[slice_].flatten(), gy[slice_].flatten(), gz[slice_].flatten()))\n",
    "            print(my_nodes)"
   ]
  },
  {
   "cell_type": "code",
   "execution_count": 90,
   "id": "stock-budapest",
   "metadata": {},
   "outputs": [],
   "source": [
    "shape = (2, 3)\n",
    "g = nx.grid_graph(shape)"
   ]
  },
  {
   "cell_type": "code",
   "execution_count": 91,
   "id": "1f391746",
   "metadata": {},
   "outputs": [
    {
     "data": {
      "text/plain": [
       "7"
      ]
     },
     "execution_count": 91,
     "metadata": {},
     "output_type": "execute_result"
    }
   ],
   "source": [
    "g.size()"
   ]
  },
  {
   "cell_type": "code",
   "execution_count": 92,
   "id": "2216b133",
   "metadata": {},
   "outputs": [
    {
     "data": {
      "image/png": "[encoded data removed]",
      "text/plain": [
       "<Figure size 432x288 with 1 Axes>"
      ]
     },
     "metadata": {},
     "output_type": "display_data"
    }
   ],
   "source": [
    "nx.draw(g)"
   ]
  },
  {
   "cell_type": "code",
   "execution_count": 100,
   "id": "95ac6043",
   "metadata": {},
   "outputs": [
    {
     "data": {
      "text/plain": [
       "[2, 3, 4]"
      ]
     },
     "execution_count": 100,
     "metadata": {},
     "output_type": "execute_result"
    }
   ],
   "source": [
    "[1, 2, 3, 4][slice(1, None)]"
   ]
  },
  {
   "cell_type": "code",
   "execution_count": 87,
   "id": "69be38bd",
   "metadata": {},
   "outputs": [],
   "source": [
    "gx, gy = np.mgrid[0:shape[0], 0:shape[1]]"
   ]
  },
  {
   "cell_type": "code",
   "execution_count": 104,
   "id": "713a21e7",
   "metadata": {},
   "outputs": [
    {
     "name": "stdout",
     "output_type": "stream",
     "text": [
      "[[(0, 0), (0, 1)], [(0, 1), (0, 2)], [(1, 0), (1, 1)], [(1, 1), (1, 2)]]\n"
     ]
    }
   ],
   "source": [
    "make_nodes = lambda s: list(zip(gx[s].flatten(), gy[s].flatten()))\n",
    "\n",
    "nodes = []\n",
    "for slice_x in [slice(0, -1), slice(1, None)]:\n",
    "    for slice_y in [slice(0, -1), slice(1, None)]:\n",
    "        slice_ = (slice_x, slice_y)\n",
    "        nodes += [make_nodes(slice_)]\n",
    "        \n",
    "\n",
    "        "
   ]
  },
  {
   "cell_type": "code",
   "execution_count": 116,
   "id": "014ec1a9",
   "metadata": {},
   "outputs": [
    {
     "name": "stdout",
     "output_type": "stream",
     "text": [
      "[[(0, 0), (0, 1)], [(0, 1), (0, 2)], [(1, 0), (1, 1)], [(1, 1), (1, 2)]]\n",
      "[((0, 0), (1, 1)), ((0, 1), (1, 2)), ((0, 1), (1, 0)), ((0, 2), (1, 1))]\n"
     ]
    }
   ],
   "source": [
    "make_nodes = lambda s: list(zip(gx[s].flatten(), gy[s].flatten()))\n",
    "\n",
    "nodes = []\n",
    "for slice_x in [slice(0, -1), slice(1, None)]:\n",
    "    for slice_y in [slice(0, -1), slice(1, None)]:\n",
    "        slice_ = (slice_x, slice_y)\n",
    "        nodes += [make_nodes(slice_)]\n",
    "    \n",
    "\n",
    "edges = []\n",
    "print(nodes)\n",
    "edges1 =list(zip(nodes[0], nodes[-1]))\n",
    "edges2 =list(zip(nodes[1], nodes[2]))\n",
    "edges = edges1 + edges2\n",
    "print(edges)\n",
    "#print(nodes[::2])\n",
    "#_ = list(zip(nodes[::2], nodes[1::2]))#\n",
    "#\n",
    "#for pair in _:\n",
    "#    edges += list(zip(*pair))\n",
    "#        edges += list(zip(xx, yy))\n",
    "        \n",
    "#print(edges)"
   ]
  },
  {
   "cell_type": "markdown",
   "id": "9227a9c4",
   "metadata": {},
   "source": [
    "## Make 3D"
   ]
  },
  {
   "cell_type": "code",
   "execution_count": 125,
   "id": "cc522c59",
   "metadata": {},
   "outputs": [
    {
     "name": "stdout",
     "output_type": "stream",
     "text": [
      "[((0, 0, 0), (1, 1, 0)), ((0, 0, 1), (1, 1, 1)), ((0, 0, 0), (1, 1, 0)), ((0, 0, 1), (1, 1, 1)), ((0, 1, 0), (1, 0, 0)), ((0, 1, 1), (1, 0, 1)), ((0, 1, 0), (1, 0, 0)), ((0, 1, 1), (1, 0, 1))]\n"
     ]
    }
   ],
   "source": [
    "shape = (2, 2, 2)\n",
    "g = nx.grid_graph(shape)\n",
    "\n",
    "gx, gy, gz = np.mgrid[0:shape[0], 0:shape[1], 0:shape[2]]\n",
    "\n",
    "make_nodes = lambda s: list(zip(gx[s].flatten(), gy[s].flatten(), gz[s].flatten()))\n",
    "\n",
    "nodes = []\n",
    "for slice_x in [slice(0, -1), slice(1, None)]:\n",
    "    for slice_y in [slice(0, -1), slice(1, None)]:\n",
    "        for slice_z in [slice(0, -1), slice(1, None)]:\n",
    "            slice_ = (slice_x, slice_y)\n",
    "            nodes += [make_nodes(slice_)]\n",
    "\n",
    "#print(nodes)\n",
    "#edges = []\n",
    "#print(nodes)\n",
    "edges1 =list(zip(nodes[0], nodes[-1]))\n",
    "edges2 =list(zip(nodes[1], nodes[-2]))\n",
    "edges3 =list(zip(nodes[2], nodes[-3]))\n",
    "edges4 = list(zip(nodes[3], nodes[-4]))\n",
    "edges = edges1 + edges2 + edges3 + edges4\n",
    "print(edges)\n",
    "#edges = edges1 + edges2\n",
    "#print(edges)\n",
    "#print(nodes[::2])\n",
    "#_ = list(zip(nodes[::2], nodes[1::2]))#\n",
    "#\n",
    "#for pair in _:\n",
    "#    edges += list(zip(*pair))\n",
    "#        edges += list(zip(xx, yy))\n",
    "        \n",
    "#print(edges)"
   ]
  },
  {
   "cell_type": "code",
   "execution_count": 89,
   "id": "5a62691d",
   "metadata": {},
   "outputs": [
    {
     "data": {
      "image/png": "[encoded data removed]",
      "text/plain": [
       "<Figure size 432x288 with 1 Axes>"
      ]
     },
     "metadata": {},
     "output_type": "display_data"
    }
   ],
   "source": [
    "lower_left = list(zip(gx[:-1, :-1].flatten(), gy[:-1, :-1].flatten()))\n",
    "upper_right = list(zip(gx[1:, 1:].flatten(), gy[1:, 1:].flatten()))\n",
    "lower_right = list(zip(gx[1:, :-1].flatten(), gy[1:, :-1].flatten()))\n",
    "upper_left = list(zip(gx[:-1, 1:].flatten(), gy[:-1, 1:].flatten()))\n",
    "\n",
    "edges1 = list(zip(lower_left, upper_right))\n",
    "edges2 = list(zip(lower_right, upper_left))\n",
    "\n",
    "g.add_edges_from(edges1 + edges2)\n",
    "\n",
    "nx.draw(g)"
   ]
  },
  {
   "cell_type": "code",
   "execution_count": null,
   "id": "260c8289",
   "metadata": {},
   "outputs": [],
   "source": []
  },
  {
   "cell_type": "code",
   "execution_count": 70,
   "id": "699c69ea",
   "metadata": {},
   "outputs": [
    {
     "data": {
      "text/plain": [
       "[(0, 0), (1, 0)]"
      ]
     },
     "execution_count": 70,
     "metadata": {},
     "output_type": "execute_result"
    }
   ],
   "source": [
    "lower_left"
   ]
  },
  {
   "cell_type": "code",
   "execution_count": 72,
   "id": "5aa69df6",
   "metadata": {},
   "outputs": [
    {
     "data": {
      "text/plain": [
       "[(1, 1), (2, 1)]"
      ]
     },
     "execution_count": 72,
     "metadata": {},
     "output_type": "execute_result"
    }
   ],
   "source": [
    "upper_right"
   ]
  },
  {
   "cell_type": "code",
   "execution_count": 73,
   "id": "e01a268e",
   "metadata": {},
   "outputs": [],
   "source": [
    "edges1 = list(zip(lower_left, upper_right))"
   ]
  },
  {
   "cell_type": "code",
   "execution_count": 74,
   "id": "427a3374",
   "metadata": {},
   "outputs": [
    {
     "data": {
      "text/plain": [
       "[((0, 0), (1, 1)), ((1, 0), (2, 1))]"
      ]
     },
     "execution_count": 74,
     "metadata": {},
     "output_type": "execute_result"
    }
   ],
   "source": [
    "edges1"
   ]
  },
  {
   "cell_type": "code",
   "execution_count": 32,
   "id": "fb6f485b",
   "metadata": {},
   "outputs": [
    {
     "ename": "TypeError",
     "evalue": "unhashable type: 'numpy.ndarray'",
     "output_type": "error",
     "traceback": [
      "\u001b[0;31m---------------------------------------------------------------------------\u001b[0m",
      "\u001b[0;31mTypeError\u001b[0m                                 Traceback (most recent call last)",
      "\u001b[0;32m/run/user/33396/ipykernel_2656638/4220744407.py\u001b[0m in \u001b[0;36m<module>\u001b[0;34m\u001b[0m\n\u001b[1;32m      1\u001b[0m \u001b[0mnew_edges\u001b[0m \u001b[0;34m=\u001b[0m \u001b[0mnp\u001b[0m\u001b[0;34m.\u001b[0m\u001b[0marray\u001b[0m\u001b[0;34m(\u001b[0m\u001b[0;34m[\u001b[0m\u001b[0;34m(\u001b[0m\u001b[0;34m(\u001b[0m\u001b[0;36m0\u001b[0m\u001b[0;34m,\u001b[0m \u001b[0;36m0\u001b[0m\u001b[0;34m)\u001b[0m\u001b[0;34m,\u001b[0m \u001b[0;34m(\u001b[0m\u001b[0;36m1\u001b[0m\u001b[0;34m,\u001b[0m \u001b[0;36m1\u001b[0m\u001b[0;34m)\u001b[0m\u001b[0;34m)\u001b[0m\u001b[0;34m,\u001b[0m \u001b[0;34m(\u001b[0m\u001b[0;34m(\u001b[0m\u001b[0;36m1\u001b[0m\u001b[0;34m,\u001b[0m \u001b[0;36m0\u001b[0m\u001b[0;34m)\u001b[0m\u001b[0;34m,\u001b[0m \u001b[0;34m(\u001b[0m\u001b[0;36m0\u001b[0m\u001b[0;34m,\u001b[0m \u001b[0;36m1\u001b[0m\u001b[0;34m)\u001b[0m\u001b[0;34m)\u001b[0m\u001b[0;34m]\u001b[0m\u001b[0;34m,\u001b[0m \u001b[0mdtype\u001b[0m\u001b[0;34m=\u001b[0m\u001b[0mint\u001b[0m\u001b[0;34m)\u001b[0m\u001b[0;34m\u001b[0m\u001b[0;34m\u001b[0m\u001b[0m\n\u001b[1;32m      2\u001b[0m \u001b[0;34m\u001b[0m\u001b[0m\n\u001b[0;32m----> 3\u001b[0;31m \u001b[0mg\u001b[0m\u001b[0;34m.\u001b[0m\u001b[0madd_edges_from\u001b[0m\u001b[0;34m(\u001b[0m\u001b[0mnew_edges\u001b[0m\u001b[0;34m)\u001b[0m\u001b[0;34m\u001b[0m\u001b[0;34m\u001b[0m\u001b[0m\n\u001b[0m",
      "\u001b[0;32m/nix/store/51gg4v2j6xcmcj0gf4pn628ynyd213vw-python3.9-networkx-2.6.3/lib/python3.9/site-packages/networkx/classes/graph.py\u001b[0m in \u001b[0;36madd_edges_from\u001b[0;34m(self, ebunch_to_add, **attr)\u001b[0m\n\u001b[1;32m    940\u001b[0m             \u001b[0;32melse\u001b[0m\u001b[0;34m:\u001b[0m\u001b[0;34m\u001b[0m\u001b[0;34m\u001b[0m\u001b[0m\n\u001b[1;32m    941\u001b[0m                 \u001b[0;32mraise\u001b[0m \u001b[0mNetworkXError\u001b[0m\u001b[0;34m(\u001b[0m\u001b[0;34mf\"Edge tuple {e} must be a 2-tuple or 3-tuple.\"\u001b[0m\u001b[0;34m)\u001b[0m\u001b[0;34m\u001b[0m\u001b[0;34m\u001b[0m\u001b[0m\n\u001b[0;32m--> 942\u001b[0;31m             \u001b[0;32mif\u001b[0m \u001b[0mu\u001b[0m \u001b[0;32mnot\u001b[0m \u001b[0;32min\u001b[0m \u001b[0mself\u001b[0m\u001b[0;34m.\u001b[0m\u001b[0m_node\u001b[0m\u001b[0;34m:\u001b[0m\u001b[0;34m\u001b[0m\u001b[0;34m\u001b[0m\u001b[0m\n\u001b[0m\u001b[1;32m    943\u001b[0m                 \u001b[0;32mif\u001b[0m \u001b[0mu\u001b[0m \u001b[0;32mis\u001b[0m \u001b[0;32mNone\u001b[0m\u001b[0;34m:\u001b[0m\u001b[0;34m\u001b[0m\u001b[0;34m\u001b[0m\u001b[0m\n\u001b[1;32m    944\u001b[0m                     \u001b[0;32mraise\u001b[0m \u001b[0mValueError\u001b[0m\u001b[0;34m(\u001b[0m\u001b[0;34m\"None cannot be a node\"\u001b[0m\u001b[0;34m)\u001b[0m\u001b[0;34m\u001b[0m\u001b[0;34m\u001b[0m\u001b[0m\n",
      "\u001b[0;31mTypeError\u001b[0m: unhashable type: 'numpy.ndarray'"
     ]
    }
   ],
   "source": [
    "new_edges = np.array([((0, 0), (1, 1)), ((1, 0), (0, 1))], dtype=int)\n",
    "\n",
    "g.add_edges_from(new_edges)"
   ]
  },
  {
   "cell_type": "code",
   "execution_count": 20,
   "id": "88b50b06",
   "metadata": {},
   "outputs": [],
   "source": [
    "#for edge in g.edges:\n",
    "#    g.edges[edge]['weight'] = 1\n",
    "    \n",
    "g.add_edges_from([\n",
    "    ((x, y), (x+1, y+1))\n",
    "    for x in range(3)\n",
    "    for y in range(3)\n",
    "] + [\n",
    "    ((x+1, y), (x, y+1))\n",
    "    for x in range(3)\n",
    "    for y in range(3)\n",
    "])"
   ]
  },
  {
   "cell_type": "code",
   "execution_count": 17,
   "id": "24a8c9a6",
   "metadata": {},
   "outputs": [
    {
     "data": {
      "image/png": "[encoded data removed]",
      "text/plain": [
       "<Figure size 432x288 with 1 Axes>"
      ]
     },
     "metadata": {},
     "output_type": "display_data"
    }
   ],
   "source": [
    "g = nx.diamond_graph()\n",
    "nx.draw(g)"
   ]
  },
  {
   "cell_type": "code",
   "execution_count": 5,
   "id": "different-iraqi",
   "metadata": {},
   "outputs": [],
   "source": [
    "g.add_nodes_from([0, 1, 2, 3])"
   ]
  },
  {
   "cell_type": "code",
   "execution_count": 7,
   "id": "thousand-generator",
   "metadata": {},
   "outputs": [
    {
     "ename": "NetworkXError",
     "evalue": "Edge tuple [2] must be a 2-tuple or 3-tuple.",
     "output_type": "error",
     "traceback": [
      "\u001b[0;31m---------------------------------------------------------------------------\u001b[0m",
      "\u001b[0;31mNetworkXError\u001b[0m                             Traceback (most recent call last)",
      "\u001b[0;32m<ipython-input-7-8c212f8e6229>\u001b[0m in \u001b[0;36m<module>\u001b[0;34m\u001b[0m\n\u001b[0;32m----> 1\u001b[0;31m \u001b[0mg\u001b[0m\u001b[0;34m.\u001b[0m\u001b[0madd_edges_from\u001b[0m\u001b[0;34m(\u001b[0m\u001b[0;34m[\u001b[0m\u001b[0;34m[\u001b[0m\u001b[0;34m-\u001b[0m\u001b[0;36m1\u001b[0m\u001b[0;34m,\u001b[0m \u001b[0;36m1\u001b[0m\u001b[0;34m]\u001b[0m\u001b[0;34m,\u001b[0m \u001b[0;34m[\u001b[0m\u001b[0;36m2\u001b[0m\u001b[0;34m]\u001b[0m\u001b[0;34m,\u001b[0m \u001b[0;34m[\u001b[0m\u001b[0;36m3\u001b[0m\u001b[0;34m]\u001b[0m\u001b[0;34m,\u001b[0m \u001b[0;34m[\u001b[0m\u001b[0;36m0\u001b[0m\u001b[0;34m]\u001b[0m\u001b[0;34m]\u001b[0m\u001b[0;34m)\u001b[0m\u001b[0;34m\u001b[0m\u001b[0;34m\u001b[0m\u001b[0m\n\u001b[0m",
      "\u001b[0;32m/nix/store/wils7ymkxrvhln7kqb2837czk7agm07x-python3.8-networkx-2.5/lib/python3.8/site-packages/networkx/classes/graph.py\u001b[0m in \u001b[0;36madd_edges_from\u001b[0;34m(self, ebunch_to_add, **attr)\u001b[0m\n\u001b[1;32m    928\u001b[0m                 \u001b[0mdd\u001b[0m \u001b[0;34m=\u001b[0m \u001b[0;34m{\u001b[0m\u001b[0;34m}\u001b[0m  \u001b[0;31m# doesn't need edge_attr_dict_factory\u001b[0m\u001b[0;34m\u001b[0m\u001b[0;34m\u001b[0m\u001b[0m\n\u001b[1;32m    929\u001b[0m             \u001b[0;32melse\u001b[0m\u001b[0;34m:\u001b[0m\u001b[0;34m\u001b[0m\u001b[0;34m\u001b[0m\u001b[0m\n\u001b[0;32m--> 930\u001b[0;31m                 \u001b[0;32mraise\u001b[0m \u001b[0mNetworkXError\u001b[0m\u001b[0;34m(\u001b[0m\u001b[0;34mf\"Edge tuple {e} must be a 2-tuple or 3-tuple.\"\u001b[0m\u001b[0;34m)\u001b[0m\u001b[0;34m\u001b[0m\u001b[0;34m\u001b[0m\u001b[0m\n\u001b[0m\u001b[1;32m    931\u001b[0m             \u001b[0;32mif\u001b[0m \u001b[0mu\u001b[0m \u001b[0;32mnot\u001b[0m \u001b[0;32min\u001b[0m \u001b[0mself\u001b[0m\u001b[0;34m.\u001b[0m\u001b[0m_node\u001b[0m\u001b[0;34m:\u001b[0m\u001b[0;34m\u001b[0m\u001b[0;34m\u001b[0m\u001b[0m\n\u001b[1;32m    932\u001b[0m                 \u001b[0mself\u001b[0m\u001b[0;34m.\u001b[0m\u001b[0m_adj\u001b[0m\u001b[0;34m[\u001b[0m\u001b[0mu\u001b[0m\u001b[0;34m]\u001b[0m \u001b[0;34m=\u001b[0m \u001b[0mself\u001b[0m\u001b[0;34m.\u001b[0m\u001b[0madjlist_inner_dict_factory\u001b[0m\u001b[0;34m(\u001b[0m\u001b[0;34m)\u001b[0m\u001b[0;34m\u001b[0m\u001b[0;34m\u001b[0m\u001b[0m\n",
      "\u001b[0;31mNetworkXError\u001b[0m: Edge tuple [2] must be a 2-tuple or 3-tuple."
     ]
    }
   ],
   "source": [
    "g.add_edges_from([[-1, 1], [2], [3], [0]])"
   ]
  },
  {
   "cell_type": "code",
   "execution_count": 10,
   "id": "international-witness",
   "metadata": {},
   "outputs": [
    {
     "data": {
      "text/plain": [
       "NodeView(((0, 0), (0, 1), (0, 2), (1, 0), (1, 1), (1, 2)))"
      ]
     },
     "execution_count": 10,
     "metadata": {},
     "output_type": "execute_result"
    }
   ],
   "source": [
    "g.nodes"
   ]
  },
  {
   "cell_type": "code",
   "execution_count": 11,
   "id": "amateur-interview",
   "metadata": {},
   "outputs": [
    {
     "data": {
      "text/plain": [
       "EdgeView([((0, 0), (1, 0)), ((0, 0), (0, 1)), ((0, 1), (1, 1)), ((0, 1), (0, 2)), ((0, 2), (1, 2)), ((1, 0), (1, 1)), ((1, 1), (1, 2))])"
      ]
     },
     "execution_count": 11,
     "metadata": {},
     "output_type": "execute_result"
    }
   ],
   "source": [
    "g.edges"
   ]
  },
  {
   "cell_type": "code",
   "execution_count": 13,
   "id": "english-siemens",
   "metadata": {},
   "outputs": [
    {
     "data": {
      "text/plain": [
       "<networkx.classes.graph.Graph at 0x7fe2800a7940>"
      ]
     },
     "execution_count": 13,
     "metadata": {},
     "output_type": "execute_result"
    }
   ],
   "source": [
    "networkx.grid_graph((4, 3, 2))"
   ]
  },
  {
   "cell_type": "code",
   "execution_count": null,
   "id": "reliable-consensus",
   "metadata": {},
   "outputs": [],
   "source": []
  }
 ],
 "metadata": {
  "kernelspec": {
   "display_name": "Python 3 (ipykernel)",
   "language": "python",
   "name": "python3"
  },
  "language_info": {
   "codemirror_mode": {
    "name": "ipython",
    "version": 3
   },
   "file_extension": ".py",
   "mimetype": "text/x-python",
   "name": "python",
   "nbconvert_exporter": "python",
   "pygments_lexer": "ipython3",
   "version": "3.9.6"
  }
 },
 "nbformat": 4,
 "nbformat_minor": 5
}

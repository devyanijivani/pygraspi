{
 "cells": [
  {
   "cell_type": "markdown",
   "id": "53e69fb7",
   "metadata": {},
   "source": [
    "## Identify intersections \n"
   ]
  },
  {
   "cell_type": "code",
   "execution_count": 1,
   "id": "c7c588ac",
   "metadata": {},
   "outputs": [],
   "source": [
    "import networkx as nx\n",
    "import numpy as np\n",
    "from math import *"
   ]
  },
  {
   "cell_type": "code",
   "execution_count": 2,
   "id": "3639eeb9",
   "metadata": {},
   "outputs": [],
   "source": [
    "def getNeighborhood1D(dim_x, dim_y):\n",
    "    vertex_list = np.array(range(dim_x * dim_y))\n",
    "    #neighborhood = np.zeros([vertex_list.shape[0], 8])\n",
    "    \n",
    "    #del_vertices = []\n",
    "    del_vertices = list(range(0,dim_x * dim_y,dim_x))\n",
    "    del_vertices += (list(range(dim_x - 1,dim_x * dim_y,dim_x)))\n",
    "    \n",
    "    del_vertices += list(range(1,dim_x))\n",
    "    del_vertices += list(range(dim_x * (dim_y - 1) + 1 ,dim_x * dim_y ))\n",
    "    del_vertices = list(set(del_vertices))\n",
    "   \n",
    "    \n",
    "    vertex_list =[i for i in range(dim_x * dim_y) if i not in del_vertices]\n",
    "    neighborhood = np.array([[p-dim_x, (p-dim_x) + 1, p + 1, p + dim_x + 1, p + dim_x,\n",
    "                             (p+dim_x) - 1, p - 1, (p - dim_x) - 1 ] for p in vertex_list ])\n",
    "    return neighborhood, vertex_list"
   ]
  },
  {
   "cell_type": "code",
   "execution_count": 25,
   "id": "e32d29f1",
   "metadata": {},
   "outputs": [
    {
     "data": {
      "text/plain": [
       "[8,\n",
       " 9,\n",
       " 10,\n",
       " 11,\n",
       " 12,\n",
       " 15,\n",
       " 16,\n",
       " 17,\n",
       " 18,\n",
       " 19,\n",
       " 22,\n",
       " 23,\n",
       " 24,\n",
       " 25,\n",
       " 26,\n",
       " 29,\n",
       " 30,\n",
       " 31,\n",
       " 32,\n",
       " 33,\n",
       " 36,\n",
       " 37,\n",
       " 38,\n",
       " 39,\n",
       " 40]"
      ]
     },
     "execution_count": 25,
     "metadata": {},
     "output_type": "execute_result"
    }
   ],
   "source": [
    "neighbors, vertex_list = getNeighborhood1D(7, 7)\n",
    "\n",
    "vertex_list"
   ]
  },
  {
   "cell_type": "code",
   "execution_count": 26,
   "id": "9bc54db2",
   "metadata": {},
   "outputs": [
    {
     "data": {
      "text/plain": [
       "array([[ 1,  2,  9, 16, 15, 14,  7,  0],\n",
       "       [ 2,  3, 10, 17, 16, 15,  8,  1],\n",
       "       [ 3,  4, 11, 18, 17, 16,  9,  2],\n",
       "       [ 4,  5, 12, 19, 18, 17, 10,  3],\n",
       "       [ 5,  6, 13, 20, 19, 18, 11,  4],\n",
       "       [ 8,  9, 16, 23, 22, 21, 14,  7],\n",
       "       [ 9, 10, 17, 24, 23, 22, 15,  8],\n",
       "       [10, 11, 18, 25, 24, 23, 16,  9],\n",
       "       [11, 12, 19, 26, 25, 24, 17, 10],\n",
       "       [12, 13, 20, 27, 26, 25, 18, 11],\n",
       "       [15, 16, 23, 30, 29, 28, 21, 14],\n",
       "       [16, 17, 24, 31, 30, 29, 22, 15],\n",
       "       [17, 18, 25, 32, 31, 30, 23, 16],\n",
       "       [18, 19, 26, 33, 32, 31, 24, 17],\n",
       "       [19, 20, 27, 34, 33, 32, 25, 18],\n",
       "       [22, 23, 30, 37, 36, 35, 28, 21],\n",
       "       [23, 24, 31, 38, 37, 36, 29, 22],\n",
       "       [24, 25, 32, 39, 38, 37, 30, 23],\n",
       "       [25, 26, 33, 40, 39, 38, 31, 24],\n",
       "       [26, 27, 34, 41, 40, 39, 32, 25],\n",
       "       [29, 30, 37, 44, 43, 42, 35, 28],\n",
       "       [30, 31, 38, 45, 44, 43, 36, 29],\n",
       "       [31, 32, 39, 46, 45, 44, 37, 30],\n",
       "       [32, 33, 40, 47, 46, 45, 38, 31],\n",
       "       [33, 34, 41, 48, 47, 46, 39, 32]])"
      ]
     },
     "execution_count": 26,
     "metadata": {},
     "output_type": "execute_result"
    }
   ],
   "source": [
    "neighbors"
   ]
  },
  {
   "cell_type": "code",
   "execution_count": 27,
   "id": "93eb4523",
   "metadata": {},
   "outputs": [
    {
     "data": {
      "text/plain": [
       "(49,)"
      ]
     },
     "execution_count": 27,
     "metadata": {},
     "output_type": "execute_result"
    }
   ],
   "source": [
    "morph = np.array([0, 0, 0, 0, 0, 0, 1, 0, 0, 0, 0, 1, 1, 1, 0, 0, 1, 0, 1, 0, 0, 0, 0, 1, 0, 0, 0, 0, 0, 0])\n",
    "morph = np.array([0, 0, 0, 0, 0, 0, 0, 0, 0, 0, 1, 0, 0, 0, 0, 0, 0, 1, 0, 0, 0, 0, 1, 1, 1, 1, 1, 0, 0, 0, 0, 1, 0, 1, 0, 0, 0, 0, 0, 1, 1, 0, 0, 0, 0, 0, 0, 0, 0])\n",
    "morph.shape"
   ]
  },
  {
   "cell_type": "code",
   "execution_count": 48,
   "id": "a73f2e55",
   "metadata": {},
   "outputs": [
    {
     "data": {
      "text/plain": [
       "array([[0, 0, 0, 0, 0, 0, 0, 0],\n",
       "       [0, 0, 0, 0, 0, 0, 0, 0],\n",
       "       [0, 0, 0, 0, 1, 0, 0, 0],\n",
       "       [0, 0, 0, 0, 0, 0, 0, 0],\n",
       "       [0, 0, 0, 0, 0, 0, 0, 0],\n",
       "       [0, 0, 0, 0, 0, 0, 0, 0],\n",
       "       [0, 0, 0, 0, 0, 0, 0, 0],\n",
       "       [1, 0, 0, 1, 1, 1, 0, 0],\n",
       "       [0, 0, 0, 0, 0, 0, 0, 0],\n",
       "       [0, 0, 0, 0, 0, 0, 0, 0],\n",
       "       [0, 0, 1, 0, 0, 0, 0, 0],\n",
       "       [0, 1, 1, 1, 0, 0, 1, 0],\n",
       "       [1, 0, 1, 0, 1, 0, 1, 0],\n",
       "       [0, 0, 1, 1, 0, 1, 1, 1],\n",
       "       [0, 0, 0, 0, 1, 0, 1, 0],\n",
       "       [0, 0, 0, 0, 0, 0, 0, 0],\n",
       "       [0, 0, 0, 0, 0, 0, 0, 0],\n",
       "       [1, 1, 0, 1, 0, 0, 0, 1],\n",
       "       [0, 0, 0, 0, 0, 0, 0, 0],\n",
       "       [1, 0, 0, 0, 1, 1, 0, 1],\n",
       "       [0, 0, 0, 0, 0, 0, 0, 0],\n",
       "       [0, 0, 0, 0, 0, 0, 0, 0],\n",
       "       [0, 0, 0, 0, 0, 0, 0, 0],\n",
       "       [0, 1, 1, 0, 0, 0, 0, 1],\n",
       "       [1, 0, 0, 0, 0, 0, 1, 0]])"
      ]
     },
     "execution_count": 48,
     "metadata": {},
     "output_type": "execute_result"
    }
   ],
   "source": [
    "morph_neighbors = morph[neighbors]\n",
    "morph_neighbors[morph[vertex_list] == 0, :] = 0\n",
    "potential_junctions = np.argwhere(np.sum(morph_neighbors, axis=1) >= 3)\n",
    "potential_junctions = np.squeeze(potential_junctions)\n",
    "morph_neighbors"
   ]
  },
  {
   "cell_type": "code",
   "execution_count": 29,
   "id": "6fab62a4",
   "metadata": {},
   "outputs": [
    {
     "data": {
      "text/plain": [
       "[[2, 11, 12, 13],\n",
       " [7, 10, 12, 17],\n",
       " [7, 11, 13, 17],\n",
       " [7, 12, 14, 17, 19],\n",
       " [11, 12, 13, 23],\n",
       " [13, 14, 23, 24],\n",
       " [17, 19, 24]]"
      ]
     },
     "execution_count": 29,
     "metadata": {},
     "output_type": "execute_result"
    }
   ],
   "source": [
    "# Neighbors of Potential Junctions\n",
    "potential_junct_n = []\n",
    "for i in potential_junctions:\n",
    "    #print(list(np.where([morph_neighbors[i, :] == 1])[1]))\n",
    "    #potential_junct_n.append(list(np.where(neighbors[morph_neighbors[i, :] == 1])[1]))\n",
    "    k = neighbors[i][list(np.where([morph_neighbors[i, :] == 1])[1])]\n",
    "    N = [i for i in range(len(vertex_list)) if vertex_list[i] in k]\n",
    "    potential_junct_n.append(N)\n",
    "potential_junct_n"
   ]
  },
  {
   "cell_type": "code",
   "execution_count": 30,
   "id": "2d77ae54",
   "metadata": {},
   "outputs": [
    {
     "data": {
      "text/plain": [
       "[[11, 12, 13],\n",
       " [7, 12, 17],\n",
       " [7, 11, 13, 17],\n",
       " [7, 12, 17, 19],\n",
       " [11, 12, 13, 23],\n",
       " [13, 23],\n",
       " [17, 19]]"
      ]
     },
     "execution_count": 30,
     "metadata": {},
     "output_type": "execute_result"
    }
   ],
   "source": [
    "# Potential Junction Neighbors of Potential Junctions\n",
    "potential_junct_junct_n = []\n",
    "for i in potential_junct_n:\n",
    "    l = []\n",
    "    [l.append(p) for p in i if p in potential_junctions]\n",
    "    potential_junct_junct_n.append(l)\n",
    "potential_junct_junct_n\n",
    "junc_even_n = morph_neighbors[:,0] + morph_neighbors[:,2] + morph_neighbors[:,4] + morph_neighbors[:,6]   \n",
    "potential_junct_junct_n"
   ]
  },
  {
   "cell_type": "code",
   "execution_count": 31,
   "id": "2e615d63",
   "metadata": {},
   "outputs": [
    {
     "data": {
      "text/plain": [
       "array([ 7, 11, 13, 17])"
      ]
     },
     "execution_count": 31,
     "metadata": {},
     "output_type": "execute_result"
    }
   ],
   "source": [
    "del_junctions = []\n",
    "for i in range(len(potential_junctions)):\n",
    "    this_junc = potential_junct_junct_n[i]\n",
    "    for j in this_junc:\n",
    "        pos, = np.where(potential_junctions == j)\n",
    "        #print(pos[0])\n",
    "        #if len(this_junc) > len(potential_junct_junct_n[pos[0]]):\n",
    "        if junc_even_n[i] > junc_even_n[pos[0]]:\n",
    "            if pos not in del_junctions : del_junctions.append(pos[0])\n",
    "        #elif len(this_junc) < len(potential_junct_junct_n[pos[0]]):\n",
    "        elif junc_even_n[i] < junc_even_n[pos[0]]:\n",
    "            if i not in del_junctions : del_junctions.append(i)\n",
    "potential_junctions[del_junctions]  "
   ]
  },
  {
   "cell_type": "code",
   "execution_count": 32,
   "id": "d3b39354",
   "metadata": {},
   "outputs": [],
   "source": [
    "def elbow_check(l):\n",
    "    if l[0] == 0 and l[-1] == 7: return True\n",
    "    n = 2\n",
    "    subs = [l[i:i+n] for i in range(len(l)) if len(l[i:i+n]) == n]\n",
    "    return any([(sorted(sub) ==list(range(min(sub), max(sub)+1))) for sub in subs])"
   ]
  },
  {
   "cell_type": "code",
   "execution_count": 33,
   "id": "f9f298f0",
   "metadata": {},
   "outputs": [],
   "source": [
    "def connector_check(l):\n",
    "    l.sort()\n",
    "    if l[0] == 0 and l[-1] == 7: \n",
    "        subs = [[0, 1], l[1, 2]]\n",
    "    else: \n",
    "        subs = [l[0, 1], l[2, 3]]\n",
    "    return all([(sub ==list(range(min(sub), max(sub)+1))) for sub in subs])"
   ]
  },
  {
   "cell_type": "code",
   "execution_count": 46,
   "id": "f34b38b8",
   "metadata": {},
   "outputs": [],
   "source": [
    "def junc_elbows(morph_neighbors):\n",
    "    pot_elbows = np.argwhere(np.sum(morph_neighbors, axis=1) == 3)\n",
    "    for i in pot_elbows:\n",
    "        #print(pot_elbows)\n",
    "        l = np.where(morph_neighbors[i])[1]\n",
    "        #print(l)\n",
    "        if elbow_check(l) : print(i)\n",
    "    pot_connnectors = np.argwhere(np.sum(morph_neighbors, axis=1) == 4)\n",
    "    #print(pot_connnectors)\n",
    "    for i in pot_connnectors[-1]:\n",
    "        print(i)\n",
    "        #print(pot_elbows)\n",
    "        l = np.where(morph_neighbors[i])[1]\n",
    "        #print(l)\n",
    "        #if connector_check(l) : print(i)"
   ]
  },
  {
   "cell_type": "code",
   "execution_count": 47,
   "id": "387e2a81",
   "metadata": {},
   "outputs": [
    {
     "name": "stdout",
     "output_type": "stream",
     "text": [
      "[23]\n",
      "19\n"
     ]
    },
    {
     "ename": "IndexError",
     "evalue": "tuple index out of range",
     "output_type": "error",
     "traceback": [
      "\u001b[0;31m---------------------------------------------------------------------------\u001b[0m",
      "\u001b[0;31mIndexError\u001b[0m                                Traceback (most recent call last)",
      "Input \u001b[0;32mIn [47]\u001b[0m, in \u001b[0;36m<cell line: 1>\u001b[0;34m()\u001b[0m\n\u001b[0;32m----> 1\u001b[0m \u001b[43mjunc_elbows\u001b[49m\u001b[43m(\u001b[49m\u001b[43mmorph_neighbors\u001b[49m\u001b[43m)\u001b[49m\n",
      "Input \u001b[0;32mIn [46]\u001b[0m, in \u001b[0;36mjunc_elbows\u001b[0;34m(morph_neighbors)\u001b[0m\n\u001b[1;32m     11\u001b[0m \u001b[38;5;28mprint\u001b[39m(i)\n\u001b[1;32m     12\u001b[0m \u001b[38;5;66;03m#print(pot_elbows)\u001b[39;00m\n\u001b[0;32m---> 13\u001b[0m l \u001b[38;5;241m=\u001b[39m \u001b[43mnp\u001b[49m\u001b[38;5;241;43m.\u001b[39;49m\u001b[43mwhere\u001b[49m\u001b[43m(\u001b[49m\u001b[43mmorph_neighbors\u001b[49m\u001b[43m[\u001b[49m\u001b[43mi\u001b[49m\u001b[43m]\u001b[49m\u001b[43m)\u001b[49m\u001b[43m[\u001b[49m\u001b[38;5;241;43m1\u001b[39;49m\u001b[43m]\u001b[49m\n",
      "\u001b[0;31mIndexError\u001b[0m: tuple index out of range"
     ]
    }
   ],
   "source": [
    "junc_elbows(morph_neighbors)"
   ]
  },
  {
   "cell_type": "code",
   "execution_count": null,
   "id": "49a48306",
   "metadata": {},
   "outputs": [],
   "source": []
  },
  {
   "cell_type": "code",
   "execution_count": null,
   "id": "7be4f909",
   "metadata": {},
   "outputs": [],
   "source": []
  }
 ],
 "metadata": {
  "kernelspec": {
   "display_name": "Python 3 (ipykernel)",
   "language": "python",
   "name": "python3"
  },
  "language_info": {
   "codemirror_mode": {
    "name": "ipython",
    "version": 3
   },
   "file_extension": ".py",
   "mimetype": "text/x-python",
   "name": "python",
   "nbconvert_exporter": "python",
   "pygments_lexer": "ipython3",
   "version": "3.10.0"
  }
 },
 "nbformat": 4,
 "nbformat_minor": 5
}

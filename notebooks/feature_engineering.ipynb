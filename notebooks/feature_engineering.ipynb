{
 "cells": [
  {
   "cell_type": "code",
   "execution_count": 4,
   "id": "e1842a29",
   "metadata": {},
   "outputs": [],
   "source": [
    "import numpy as np\n",
    "import matplotlib.pyplot as plt\n",
    "\n",
    "from pymks.datasets import make_microstructure, make_elastic_stress_random, make_elastic_FE_strain_delta\n",
    "from pymks.tools import draw_microstructures, draw_correlations\n",
    "from pymks import PrimitiveBasis\n",
    "from pymks.stats import correlate\n"
   ]
  },
  {
   "cell_type": "code",
   "execution_count": 2,
   "id": "b296893a",
   "metadata": {},
   "outputs": [
    {
     "name": "stderr",
     "output_type": "stream",
     "text": [
      "/var/folders/__/04ym3wb54lj63ycz31f859h40000gn/T/ipykernel_7645/1210906567.py:4: DeprecationWarning: Call to deprecated function (or staticmethod) wrapper. (Use pymks.fmks instead.) -- Deprecated since version 0.4.\n",
      "  X_train, y_train = make_elastic_stress_random(n_samples=n_samples, size=(51, 51),\n"
     ]
    },
    {
     "ename": "ImportError",
     "evalue": "cannot import name 'solve' from 'pymks.fmks.data.elastic_fe' (/Users/devyanijivani/opt/anaconda3/envs/gt/lib/python3.10/site-packages/pymks/fmks/data/elastic_fe.py)",
     "output_type": "error",
     "traceback": [
      "\u001b[0;31m---------------------------------------------------------------------------\u001b[0m",
      "\u001b[0;31mImportError\u001b[0m                               Traceback (most recent call last)",
      "Input \u001b[0;32mIn [2]\u001b[0m, in \u001b[0;36m<cell line: 4>\u001b[0;34m()\u001b[0m\n\u001b[1;32m      1\u001b[0m grain_size \u001b[38;5;241m=\u001b[39m [(\u001b[38;5;241m47\u001b[39m, \u001b[38;5;241m6\u001b[39m), (\u001b[38;5;241m4\u001b[39m, \u001b[38;5;241m49\u001b[39m), (\u001b[38;5;241m14\u001b[39m, \u001b[38;5;241m14\u001b[39m)]\n\u001b[1;32m      2\u001b[0m n_samples \u001b[38;5;241m=\u001b[39m [\u001b[38;5;241m200\u001b[39m, \u001b[38;5;241m200\u001b[39m, \u001b[38;5;241m200\u001b[39m]\n\u001b[0;32m----> 4\u001b[0m X_train, y_train \u001b[38;5;241m=\u001b[39m \u001b[43mmake_elastic_stress_random\u001b[49m\u001b[43m(\u001b[49m\u001b[43mn_samples\u001b[49m\u001b[38;5;241;43m=\u001b[39;49m\u001b[43mn_samples\u001b[49m\u001b[43m,\u001b[49m\u001b[43m \u001b[49m\u001b[43msize\u001b[49m\u001b[38;5;241;43m=\u001b[39;49m\u001b[43m(\u001b[49m\u001b[38;5;241;43m51\u001b[39;49m\u001b[43m,\u001b[49m\u001b[43m \u001b[49m\u001b[38;5;241;43m51\u001b[39;49m\u001b[43m)\u001b[49m\u001b[43m,\u001b[49m\n\u001b[1;32m      5\u001b[0m \u001b[43m                                              \u001b[49m\u001b[43mgrain_size\u001b[49m\u001b[38;5;241;43m=\u001b[39;49m\u001b[43mgrain_size\u001b[49m\u001b[43m,\u001b[49m\u001b[43m \u001b[49m\u001b[43mseed\u001b[49m\u001b[38;5;241;43m=\u001b[39;49m\u001b[38;5;241;43m0\u001b[39;49m\u001b[43m)\u001b[49m\n",
      "File \u001b[0;32m~/opt/anaconda3/envs/gt/lib/python3.10/site-packages/deprecated/classic.py:285\u001b[0m, in \u001b[0;36mdeprecated.<locals>.wrapper_function\u001b[0;34m(wrapped_, instance_, args_, kwargs_)\u001b[0m\n\u001b[1;32m    283\u001b[0m \u001b[38;5;28;01melse\u001b[39;00m:\n\u001b[1;32m    284\u001b[0m     warnings\u001b[38;5;241m.\u001b[39mwarn(msg, category\u001b[38;5;241m=\u001b[39mcategory, stacklevel\u001b[38;5;241m=\u001b[39m_routine_stacklevel)\n\u001b[0;32m--> 285\u001b[0m \u001b[38;5;28;01mreturn\u001b[39;00m \u001b[43mwrapped_\u001b[49m\u001b[43m(\u001b[49m\u001b[38;5;241;43m*\u001b[39;49m\u001b[43margs_\u001b[49m\u001b[43m,\u001b[49m\u001b[43m \u001b[49m\u001b[38;5;241;43m*\u001b[39;49m\u001b[38;5;241;43m*\u001b[39;49m\u001b[43mkwargs_\u001b[49m\u001b[43m)\u001b[49m\n",
      "File \u001b[0;32m~/opt/anaconda3/envs/gt/lib/python3.10/site-packages/pymks/fmks/func.py:534\u001b[0m, in \u001b[0;36mdeprecate.<locals>.wrapper\u001b[0;34m(*args, **kwargs)\u001b[0m\n\u001b[1;32m    532\u001b[0m \u001b[38;5;129m@deprecated\u001b[39m\u001b[38;5;241m.\u001b[39mdeprecated(version\u001b[38;5;241m=\u001b[39m\u001b[38;5;241m0.4\u001b[39m, reason\u001b[38;5;241m=\u001b[39mreason \u001b[38;5;129;01mor\u001b[39;00m \u001b[38;5;124m\"\u001b[39m\u001b[38;5;124mUse pymks.fmks instead.\u001b[39m\u001b[38;5;124m\"\u001b[39m)\n\u001b[1;32m    533\u001b[0m \u001b[38;5;28;01mdef\u001b[39;00m \u001b[38;5;21mwrapper\u001b[39m(\u001b[38;5;241m*\u001b[39margs, \u001b[38;5;241m*\u001b[39m\u001b[38;5;241m*\u001b[39mkwargs):\n\u001b[0;32m--> 534\u001b[0m     \u001b[38;5;28;01mreturn\u001b[39;00m \u001b[43mfunc\u001b[49m\u001b[43m(\u001b[49m\u001b[38;5;241;43m*\u001b[39;49m\u001b[43margs\u001b[49m\u001b[43m,\u001b[49m\u001b[43m \u001b[49m\u001b[38;5;241;43m*\u001b[39;49m\u001b[38;5;241;43m*\u001b[39;49m\u001b[43mkwargs\u001b[49m\u001b[43m)\u001b[49m\n",
      "File \u001b[0;32m~/opt/anaconda3/envs/gt/lib/python3.10/site-packages/pymks/datasets/__init__.py:303\u001b[0m, in \u001b[0;36mmake_elastic_stress_random\u001b[0;34m(n_samples, elastic_modulus, poissons_ratio, size, macro_strain, grain_size, seed, volume_fraction, percent_variance)\u001b[0m\n\u001b[1;32m    301\u001b[0m np\u001b[38;5;241m.\u001b[39mrandom\u001b[38;5;241m.\u001b[39mseed(seed)\n\u001b[1;32m    302\u001b[0m seed \u001b[38;5;241m=\u001b[39m np\u001b[38;5;241m.\u001b[39mrandom\u001b[38;5;241m.\u001b[39mrandint(\u001b[38;5;241m100\u001b[39m, size\u001b[38;5;241m=\u001b[39m(\u001b[38;5;28mlen\u001b[39m(volume_fraction),))\n\u001b[0;32m--> 303\u001b[0m X_cal, y_cal \u001b[38;5;241m=\u001b[39m \u001b[43mmake_elastic_FE_strain_delta\u001b[49m\u001b[43m(\u001b[49m\u001b[43melastic_modulus\u001b[49m\u001b[43m,\u001b[49m\n\u001b[1;32m    304\u001b[0m \u001b[43m                                            \u001b[49m\u001b[43mpoissons_ratio\u001b[49m\u001b[43m,\u001b[49m\u001b[43m \u001b[49m\u001b[43msize\u001b[49m\u001b[43m,\u001b[49m\n\u001b[1;32m    305\u001b[0m \u001b[43m                                            \u001b[49m\u001b[43mmacro_strain\u001b[49m\u001b[43m)\u001b[49m\n\u001b[1;32m    306\u001b[0m n_states \u001b[38;5;241m=\u001b[39m \u001b[38;5;28mlen\u001b[39m(elastic_modulus)\n\u001b[1;32m    307\u001b[0m basis \u001b[38;5;241m=\u001b[39m DiscreteIndicatorBasis(n_states)\n",
      "File \u001b[0;32m~/opt/anaconda3/envs/gt/lib/python3.10/site-packages/deprecated/classic.py:285\u001b[0m, in \u001b[0;36mdeprecated.<locals>.wrapper_function\u001b[0;34m(wrapped_, instance_, args_, kwargs_)\u001b[0m\n\u001b[1;32m    283\u001b[0m \u001b[38;5;28;01melse\u001b[39;00m:\n\u001b[1;32m    284\u001b[0m     warnings\u001b[38;5;241m.\u001b[39mwarn(msg, category\u001b[38;5;241m=\u001b[39mcategory, stacklevel\u001b[38;5;241m=\u001b[39m_routine_stacklevel)\n\u001b[0;32m--> 285\u001b[0m \u001b[38;5;28;01mreturn\u001b[39;00m \u001b[43mwrapped_\u001b[49m\u001b[43m(\u001b[49m\u001b[38;5;241;43m*\u001b[39;49m\u001b[43margs_\u001b[49m\u001b[43m,\u001b[49m\u001b[43m \u001b[49m\u001b[38;5;241;43m*\u001b[39;49m\u001b[38;5;241;43m*\u001b[39;49m\u001b[43mkwargs_\u001b[49m\u001b[43m)\u001b[49m\n",
      "File \u001b[0;32m~/opt/anaconda3/envs/gt/lib/python3.10/site-packages/pymks/fmks/func.py:534\u001b[0m, in \u001b[0;36mdeprecate.<locals>.wrapper\u001b[0;34m(*args, **kwargs)\u001b[0m\n\u001b[1;32m    532\u001b[0m \u001b[38;5;129m@deprecated\u001b[39m\u001b[38;5;241m.\u001b[39mdeprecated(version\u001b[38;5;241m=\u001b[39m\u001b[38;5;241m0.4\u001b[39m, reason\u001b[38;5;241m=\u001b[39mreason \u001b[38;5;129;01mor\u001b[39;00m \u001b[38;5;124m\"\u001b[39m\u001b[38;5;124mUse pymks.fmks instead.\u001b[39m\u001b[38;5;124m\"\u001b[39m)\n\u001b[1;32m    533\u001b[0m \u001b[38;5;28;01mdef\u001b[39;00m \u001b[38;5;21mwrapper\u001b[39m(\u001b[38;5;241m*\u001b[39margs, \u001b[38;5;241m*\u001b[39m\u001b[38;5;241m*\u001b[39mkwargs):\n\u001b[0;32m--> 534\u001b[0m     \u001b[38;5;28;01mreturn\u001b[39;00m \u001b[43mfunc\u001b[49m\u001b[43m(\u001b[49m\u001b[38;5;241;43m*\u001b[39;49m\u001b[43margs\u001b[49m\u001b[43m,\u001b[49m\u001b[43m \u001b[49m\u001b[38;5;241;43m*\u001b[39;49m\u001b[38;5;241;43m*\u001b[39;49m\u001b[43mkwargs\u001b[49m\u001b[43m)\u001b[49m\n",
      "File \u001b[0;32m~/opt/anaconda3/envs/gt/lib/python3.10/site-packages/pymks/datasets/__init__.py:39\u001b[0m, in \u001b[0;36mmake_elastic_FE_strain_delta\u001b[0;34m(elastic_modulus, poissons_ratio, size, macro_strain)\u001b[0m\n\u001b[1;32m     13\u001b[0m \u001b[38;5;129m@deprecate\u001b[39m\n\u001b[1;32m     14\u001b[0m \u001b[38;5;28;01mdef\u001b[39;00m \u001b[38;5;21mmake_elastic_FE_strain_delta\u001b[39m(elastic_modulus\u001b[38;5;241m=\u001b[39m(\u001b[38;5;241m100\u001b[39m, \u001b[38;5;241m150\u001b[39m),\n\u001b[1;32m     15\u001b[0m                                  poissons_ratio\u001b[38;5;241m=\u001b[39m(\u001b[38;5;241m0.3\u001b[39m, \u001b[38;5;241m0.3\u001b[39m),\n\u001b[1;32m     16\u001b[0m                                  size\u001b[38;5;241m=\u001b[39m(\u001b[38;5;241m21\u001b[39m, \u001b[38;5;241m21\u001b[39m), macro_strain\u001b[38;5;241m=\u001b[39m\u001b[38;5;241m0.01\u001b[39m):\n\u001b[1;32m     17\u001b[0m     \u001b[38;5;124;03m\"\"\"Generate delta microstructures and responses\u001b[39;00m\n\u001b[1;32m     18\u001b[0m \n\u001b[1;32m     19\u001b[0m \u001b[38;5;124;03m    Simple interface to generate delta microstructures and their\u001b[39;00m\n\u001b[0;32m   (...)\u001b[0m\n\u001b[1;32m     37\u001b[0m \n\u001b[1;32m     38\u001b[0m \u001b[38;5;124;03m    \"\"\"\u001b[39;00m\n\u001b[0;32m---> 39\u001b[0m     \u001b[38;5;28;01mfrom\u001b[39;00m \u001b[38;5;21;01mpymks\u001b[39;00m\u001b[38;5;21;01m.\u001b[39;00m\u001b[38;5;21;01mfmks\u001b[39;00m\u001b[38;5;21;01m.\u001b[39;00m\u001b[38;5;21;01mdata\u001b[39;00m\u001b[38;5;21;01m.\u001b[39;00m\u001b[38;5;21;01melastic_fe\u001b[39;00m \u001b[38;5;28;01mimport\u001b[39;00m solve\n\u001b[1;32m     41\u001b[0m     X \u001b[38;5;241m=\u001b[39m make_delta_microstructures(\u001b[38;5;28mlen\u001b[39m(elastic_modulus), size\u001b[38;5;241m=\u001b[39msize)\n\u001b[1;32m     43\u001b[0m     \u001b[38;5;28;01mreturn\u001b[39;00m X, solve(X,\n\u001b[1;32m     44\u001b[0m                     elastic_modulus\u001b[38;5;241m=\u001b[39melastic_modulus,\n\u001b[1;32m     45\u001b[0m                     poissons_ratio\u001b[38;5;241m=\u001b[39mpoissons_ratio,\n\u001b[1;32m     46\u001b[0m                     macro_strain\u001b[38;5;241m=\u001b[39mmacro_strain)[\u001b[38;5;124m'\u001b[39m\u001b[38;5;124mstrain\u001b[39m\u001b[38;5;124m'\u001b[39m][\u001b[38;5;241m.\u001b[39m\u001b[38;5;241m.\u001b[39m\u001b[38;5;241m.\u001b[39m, \u001b[38;5;241m0\u001b[39m]\n",
      "\u001b[0;31mImportError\u001b[0m: cannot import name 'solve' from 'pymks.fmks.data.elastic_fe' (/Users/devyanijivani/opt/anaconda3/envs/gt/lib/python3.10/site-packages/pymks/fmks/data/elastic_fe.py)"
     ]
    }
   ],
   "source": []
  },
  {
   "cell_type": "code",
   "execution_count": null,
   "id": "8ec44fba",
   "metadata": {},
   "outputs": [],
   "source": []
  },
  {
   "cell_type": "code",
   "execution_count": 3,
   "id": "dfde4a73",
   "metadata": {},
   "outputs": [
    {
     "ename": "ImportError",
     "evalue": "cannot import name 'solve' from 'pymks.fmks.data.elastic_fe' (/Users/devyanijivani/opt/anaconda3/envs/gt/lib/python3.10/site-packages/pymks/fmks/data/elastic_fe.py)",
     "output_type": "error",
     "traceback": [
      "\u001b[0;31m---------------------------------------------------------------------------\u001b[0m",
      "\u001b[0;31mImportError\u001b[0m                               Traceback (most recent call last)",
      "Input \u001b[0;32mIn [3]\u001b[0m, in \u001b[0;36m<cell line: 1>\u001b[0;34m()\u001b[0m\n\u001b[0;32m----> 1\u001b[0m \u001b[38;5;28;01mfrom\u001b[39;00m \u001b[38;5;21;01mpymks\u001b[39;00m\u001b[38;5;21;01m.\u001b[39;00m\u001b[38;5;21;01mfmks\u001b[39;00m\u001b[38;5;21;01m.\u001b[39;00m\u001b[38;5;21;01mdata\u001b[39;00m\u001b[38;5;21;01m.\u001b[39;00m\u001b[38;5;21;01melastic_fe\u001b[39;00m \u001b[38;5;28;01mimport\u001b[39;00m solve\n",
      "\u001b[0;31mImportError\u001b[0m: cannot import name 'solve' from 'pymks.fmks.data.elastic_fe' (/Users/devyanijivani/opt/anaconda3/envs/gt/lib/python3.10/site-packages/pymks/fmks/data/elastic_fe.py)"
     ]
    }
   ],
   "source": []
  },
  {
   "cell_type": "code",
   "execution_count": null,
   "id": "c703b28d",
   "metadata": {},
   "outputs": [],
   "source": []
  }
 ],
 "metadata": {
  "kernelspec": {
   "display_name": "Python 3 (ipykernel)",
   "language": "python",
   "name": "python3"
  },
  "language_info": {
   "codemirror_mode": {
    "name": "ipython",
    "version": 3
   },
   "file_extension": ".py",
   "mimetype": "text/x-python",
   "name": "python",
   "nbconvert_exporter": "python",
   "pygments_lexer": "ipython3",
   "version": "3.10.4"
  }
 },
 "nbformat": 4,
 "nbformat_minor": 5
}
